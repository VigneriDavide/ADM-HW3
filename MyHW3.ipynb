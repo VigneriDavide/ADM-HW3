{
 "cells": [
  {
   "cell_type": "markdown",
   "id": "886cfef7-aee9-4b2f-9e65-eb5391b24478",
   "metadata": {
    "tags": []
   },
   "source": [
    "# 0. Import libraries and modules"
   ]
  },
  {
   "cell_type": "code",
   "execution_count": 1,
   "id": "591a3c18-0b26-4cca-8e4a-0ff74ea8daf6",
   "metadata": {
    "tags": []
   },
   "outputs": [],
   "source": [
    "import bs4\n",
    "from bs4 import BeautifulSoup as bs\n",
    "from tqdm import tqdm\n",
    "import requests\n",
    "\n",
    "import datetime\n",
    "import os\n",
    "import csv"
   ]
  },
  {
   "cell_type": "markdown",
   "id": "e7423c26-20e1-45b0-9c3d-c52518f2a130",
   "metadata": {},
   "source": [
    "# 1. Data collection"
   ]
  },
  {
   "cell_type": "markdown",
   "id": "0fe0683e-1173-4259-89ed-e74e5831587b",
   "metadata": {},
   "source": [
    "#### In this part of the homework, we focus on collecting the data that will be used by the search engine implemented in RQ2"
   ]
  },
  {
   "cell_type": "markdown",
   "id": "3d7d1ae4-327b-4ac5-b23b-3e703bf13f1d",
   "metadata": {},
   "source": [
    "## 1.1 Get the list of places"
   ]
  },
  {
   "cell_type": "markdown",
   "id": "948a070f-313c-44e7-ba77-66198f1b984b",
   "metadata": {},
   "source": [
    "##### We want to collect the URL associated with the sites listed in the first 400 pages. To do that, we parse throught the pages and retrieve a list of all the links with `a`-tag and class equals to `content-card-place`.\n",
    "##### Then we open in append mode a txt file in which we write all the elements of the list above created"
   ]
  },
  {
   "cell_type": "code",
   "execution_count": null,
   "id": "04d2864e-682c-4f87-ab95-453c410f78ed",
   "metadata": {
    "tags": []
   },
   "outputs": [],
   "source": [
    "url_name = 'https://www.atlasobscura.com' # assign the URL to 'url_name'\n",
    "for i in range(400): # loop through the pages\n",
    "    result = requests.get('https://www.atlasobscura.com/places?page={}&sort=likes_count'.format(i+1)) # make a request to the ith web page\n",
    "    list_soup = bs(result.text) # use Beautiful Soup\n",
    "    list_places = [x.get('href') for x in list_soup.find_all('a', {'class':'content-card-place'})] # comprehension list of the links of places\n",
    "    with open ('txt_file_urls.txt','a' ) as f:\n",
    "        for el in list_places:\n",
    "            f.write(url_name+el +'\\n')\n",
    "    f.close()"
   ]
  },
  {
   "cell_type": "markdown",
   "id": "ac3c3208-571d-4bb8-8760-21b8c63a8720",
   "metadata": {},
   "source": [
    "## 1.2 Crawl places"
   ]
  },
  {
   "cell_type": "markdown",
   "id": "5afe639a-5830-407c-964f-a7e62b70a3b1",
   "metadata": {},
   "source": [
    "##### We are interested in saving each page in a different HTML file. Each file so created will store the HTML of the places that are listed in the corresponding page.\n",
    "To do that, firstly we define the function `url_to_text_(urls)` that takes as argument a tuple that contains:\n",
    "* the index of the page in which a URL is located (from 1 to 18)\n",
    "* the URL of that place"
   ]
  },
  {
   "cell_type": "code",
   "execution_count": 2,
   "id": "12f125e7-e1c1-4e10-bcd0-586c86fd449b",
   "metadata": {},
   "outputs": [],
   "source": [
    "def url_to_text_(urls):\n",
    "    \n",
    "    \"\"\" \n",
    "    For each url get html and store it in /htmls_page_{page_nr}/{place_name}\n",
    "    \n",
    "    Args:\n",
    "        - urls: a tuple(index_page, URL)\n",
    "     \n",
    "    Returns:\n",
    "        - write write in the folder of the page the HTML of the place\n",
    "     \n",
    "    \"\"\"\n",
    "    \n",
    "    i = urls[0] # n° of the page\n",
    "    url = urls[1].split('\\n')[0] # URL of the place\n",
    "    try:\n",
    "        os.makedirs('htmls_page_{}'.format(i+1)) # create a directory for the ith page\n",
    "    except:\n",
    "        pass\n",
    "    el = url\n",
    "    el_name = el.split('.com/places/')[1] # rename the URL in a more clean manner\n",
    "    result = requests.get(el) # make a request to that URL\n",
    "    with open('./htmls_page_{}/{}'.format(i+1, el_name), 'w') as wf: # write in the folder of the page...\n",
    "        wf.write(result.text) #... the HTML of the place\n",
    "    wf.close()\n",
    "    return"
   ]
  },
  {
   "cell_type": "markdown",
   "id": "1cc9b390-0d2e-440a-897e-791f1fdf7da2",
   "metadata": {},
   "source": [
    "##### Then, we read the lines of `txt_file_urls.txt`, the file we previously created, and we build a tuple for each line (that represents the URL of a place). Each tuple groups the nuber of page in which the URL is located and the URL itself. Consequently, we create a list of all the tuples, and finally we apply to each tuple the function `url_to_text`"
   ]
  },
  {
   "cell_type": "code",
   "execution_count": 34,
   "id": "dffce451-90f5-48e7-a321-1b46bd9959d4",
   "metadata": {
    "jupyter": {
     "source_hidden": true
    },
    "tags": []
   },
   "outputs": [],
   "source": [
    "# version 1\n",
    "if __name__ == '__main__':\n",
    "    with open ('txt_file_urls.txt', 'r') as urls:\n",
    "        l = []\n",
    "        for line in urls:\n",
    "            l.append(line)\n",
    "        grouped_l = [l[i:i+18] for i in range(0,len(l), 18)]\n",
    "        grouped_ln = [[(i, el) for el in group]for i, group in enumerate(grouped_l)]\n",
    "\n",
    "        grouped_ln_flat = []\n",
    "        for group in grouped_ln:\n",
    "            for el in group:\n",
    "                grouped_ln_flat.append(el)\n",
    "         \n",
    "        for el in grouped_ln_flat[:]:\n",
    "            url_to_text_(el)"
   ]
  },
  {
   "cell_type": "code",
   "execution_count": null,
   "id": "21b3acc1-0eb4-44f2-ba46-608e5afdc033",
   "metadata": {},
   "outputs": [],
   "source": [
    "#version 2 to compare with that above \n",
    "if __name__ == '__main__':\n",
    "    with open ('txt_file_urls.txt', 'r') as urls: #reads the txt file\n",
    "        l = [] # initialize a list\n",
    "        for line in urls:  \n",
    "            l.append(line) # list of all urls\n",
    "        grouped_l = [l[i:i+18] for i in range(0,len(l), 18)] # list of URLS listed for each page\n",
    "        grouped_ln = [[(i, el) for el in group]for i, group in enumerate(grouped_l)] #list of tuple\n",
    "\n",
    "        for group in grouped_ln: \n",
    "            for el in group:\n",
    "                url_to_text_(el) # put the HTMLs of the URLs in the corresponding file"
   ]
  },
  {
   "cell_type": "markdown",
   "id": "9bab7d06-080a-411d-8a7a-123486aade01",
   "metadata": {},
   "source": [
    "## 1.3 Parse downloaded pages"
   ]
  },
  {
   "cell_type": "markdown",
   "id": "15ccccc6-9a21-41dd-abda-2a3f3e9b170a",
   "metadata": {},
   "source": [
    "##### In this point we want to create a tsv file for each HTML document. Such files will contain the following information:\n",
    "1. Place Name (to save as placeName): String.\n",
    "2. Place Tags (to save as placeTags): List of Strings.\n",
    "3. Numberof people who have been there (to save as numPeopleVisited): Integer.\n",
    "4. Number of people who want to visit the place(to save as numPeopleWant): Integer.\n",
    "5. Description (to save as placeDesc): String. Everything from under the first image up to \"know before you go\" (orange frame on the example image).\n",
    "6. Short Description (to save as placeShortDesc): String. Everything from the title and location up to the image (blue frame on the example image).\n",
    "7. Nearby Places (to save as placeNearby): Extract the names of all nearby places, but only keep unique values: List of Strings.\n",
    "8. Address of the place(to save as placeAddress): String.\n",
    "9. Latitud and Longitude of the place's location(to save as placeAlt and placeLong): Floats\n",
    "10. The username of the post editors (to save as placeEditors): List of Strings.\n",
    "11. Post publishing date (to save as placePubDate): datetime.\n",
    "12. The names of the lists that the place was included in (to save as placeRelatedLists): List of Strings.\n",
    "13. The names of the related places (to save as placeRelatedPlaces): List of Strings.\n",
    "14. The URL of the page of the place (to save as placeURL):String\n"
   ]
  },
  {
   "cell_type": "markdown",
   "id": "f846d7fb-0b43-46c4-85c1-d4ea2259385f",
   "metadata": {},
   "source": [
    "![HTML page](https://github.com/lucamaiano/ADM/raw/master/2022/Homework_3/img/last_version_place.png)"
   ]
  },
  {
   "cell_type": "markdown",
   "id": "8316b4f7-966d-4c86-b0f2-3d8876cba689",
   "metadata": {},
   "source": [
    "##### We define the function `analyse_html` in order to:\n",
    "* extract the requested information \n",
    "* write the information in a tsv file"
   ]
  },
  {
   "cell_type": "code",
   "execution_count": 3,
   "id": "5868d860",
   "metadata": {},
   "outputs": [],
   "source": [
    "def analyse_html(page_nr, name, to_tsv = True): \n",
    "    \"\"\" For page_nr, place_name extract information from html, if NA set ==''\n",
    "    \n",
    "        Args:\n",
    "            - page_nr (int): page number\n",
    "            - name (str): name of the place\n",
    "            - to_tsv\n",
    "            \n",
    "        Returns:\n",
    "            - return: write a tsvs file containing all the 14 features\n",
    "    \"\"\"\n",
    "    \n",
    "    with open('./htmls/htmls_page_{}/{}'.format(page_nr,name), 'r') as f:\n",
    "        soup = bs(f.read())\n",
    "    \n",
    "    try:\n",
    "        placeName = str(soup.find_all('h1', {'class':'DDPage__header-title'})[0].contents[0])\n",
    "    except:\n",
    "        placeName =''\n",
    "\n",
    "    try:\n",
    "        a = soup.find_all('a', {'class': 'itemTags__link js-item-tags-link'})\n",
    "        placeTags = [el.get('href').split('/categories/')[1] for el in a]\n",
    "    except:\n",
    "        placeTags =''\n",
    "\n",
    "    try:\n",
    "        nrs = soup.find_all('div', {'class':'title-md item-action-count'})[:2]\n",
    "        numPeopleVisited = int(nrs[0].get_text())\n",
    "    except:\n",
    "        numPeopleVisited=''\n",
    "\n",
    "    try:\n",
    "        nrs = soup.find_all('div', {'class':'title-md item-action-count'})[:2]\n",
    "        numPeopleWant = int(nrs[1].get_text())\n",
    "    except:\n",
    "        numPeopleWant = ''\n",
    "\n",
    "    try:\n",
    "        place_desc = soup.find_all('div', {'class': 'DDP__body-copy'})\n",
    "        text = ''.join([el.get_text() for el in place_desc])\n",
    "        placeDesc = text.replace('\\n', '').replace('\\xa0', '')\n",
    "    except:\n",
    "        placeDesc=''\n",
    "\n",
    "    try:\n",
    "        placeShortDesc = soup.find_all('h3', {'class': 'DDPage__header-dek'})[0].contents[0]\n",
    "    except:\n",
    "        placeShortDesc=''\n",
    "\n",
    "    try:\n",
    "        side = soup.find_all('div', {'class':'DDPageSiderailRecirc__item-title'})\n",
    "        placeNearby = [s.get_text() for s in side]\n",
    "    except:\n",
    "        placeNearby = ''\n",
    "\n",
    "    try:\n",
    "        a=soup.find_all('address', {'class':'DDPageSiderail__address'})[0]\n",
    "        placeAdress = a.find('div').get_text(separator = ' ').split('\\n')[0]\n",
    "    except:\n",
    "        placeAdress = ''\n",
    "\n",
    "    try:\n",
    "        b=soup.find('div', {'class':'DDPageSiderail__coordinates js-copy-coordinates'})\n",
    "        lat,lng = b.get('data-coordinates').split(',')\n",
    "        placeAlt = float(lat)\n",
    "        placeLong = float(lng)\n",
    "    except:\n",
    "        placeAlt = ''\n",
    "        placeLong = ''\n",
    "\n",
    "\n",
    "    try:\n",
    "        contributors = soup.find_all('div', {'class': 'ugc-editor-icons'})\n",
    "        href = [c.findChildren('a')[0].get('href') for c in contributors]\n",
    "        #alt = [c.findChildren('img')[0].get('alt') for c in contributors]\n",
    "        placeEditors = [h.split('/users/')[1] for h in href]\n",
    "    except:\n",
    "        placeEditors = ''\n",
    "\n",
    "    try:    \n",
    "        date = soup.find_all('div', {'class': 'DDPContributor__name'})\n",
    "        dt_string = date[0].get_text()\n",
    "        format = \"%B %d, %Y\"\n",
    "        placePubDate = datetime.datetime.strptime(dt_string, format)\n",
    "    except:\n",
    "        placePubDate= ''\n",
    "\n",
    "    try:\n",
    "        pot = soup.find_all('div', {'class':'CardRecircSection__title'})\n",
    "        lists = [o for o in pot if o.text == 'Appears in 1 List'][0]\n",
    "        pl = lists.find_all_next('h3', {'class':'Card__heading --content-card-v2-title js-title-content'})\n",
    "        placeRelatedLists = [el.find('span').text for el in pl]\n",
    "    except:\n",
    "        placeRelatedLists = ''\n",
    "\n",
    "    try:\n",
    "        pot = soup.find_all('div', {'class':'CardRecircSection__title'})\n",
    "        rel = [o for o in pot if o.text == 'Related Places'][0]\n",
    "        pl = rel.find_all_next('div', {'class':'Card__action-btns vue-js-been-there-everywhere-place'})\n",
    "        placeRelatedPlaces = [p.get('data-place-title') for p in pl]\n",
    "    except:\n",
    "        placeRelatedPlaces=''\n",
    "\n",
    "    try:\n",
    "        placeURL = 'https://www.atlasobscura.com/places/'+name\n",
    "    except:\n",
    "        placeURL = ''\n",
    "        \n",
    "    info = [placeName, placeTags, numPeopleWant, numPeopleVisited, placeDesc, placeShortDesc, placeNearby, placeAdress, placeAlt, placeLong, placeEditors, placePubDate, placeRelatedLists, placeRelatedPlaces, placeURL]\n",
    "   \n",
    "    if to_tsv:\n",
    "        with open ('tsvs_page_{}/{}.tsv'.format(i+1, name), 'w') as f:\n",
    "            writer = csv.writer(f, delimiter='\\t')\n",
    "            writer.writerow(info)\n",
    "            "
   ]
  },
  {
   "cell_type": "markdown",
   "id": "98cf1d0b-bf83-4448-912f-1c3a76620c18",
   "metadata": {},
   "source": [
    "##### Then, we loop over the pages and for each place we write the information in a tsv file using the above implemented function (`analyse_html`)"
   ]
  },
  {
   "cell_type": "code",
   "execution_count": null,
   "id": "1bc95d67-6b1c-4acc-b56b-54beac74286b",
   "metadata": {},
   "outputs": [],
   "source": [
    "for i in range(400):\n",
    "    els = os.listdir('./htmls/htmls_page_{}'.format(i+1))\n",
    "    os.makedirs('tsvs_page_{}'.format(i+1))\n",
    "\n",
    "    for name in els:\n",
    "        analyse_html(i+1, name)"
   ]
  },
  {
   "cell_type": "markdown",
   "id": "9561c030-59dc-4e9c-90a3-9e4a44fe9891",
   "metadata": {},
   "source": [
    "# 2. Search Engine"
   ]
  },
  {
   "cell_type": "markdown",
   "id": "66baca66-a1b2-429c-a88a-6e36b5e6923b",
   "metadata": {},
   "source": [
    "#### This part of the Homework deals with creating two search engines. The search engines will be build in subsection *2.1* and *2.2*"
   ]
  },
  {
   "cell_type": "markdown",
   "id": "235a771d-005d-4ed5-888e-54f8cc891d1a",
   "metadata": {},
   "source": [
    "## 2.1 Conjunctive query"
   ]
  },
  {
   "cell_type": "markdown",
   "id": "68029850-575f-4b94-8d91-0502bd336c96",
   "metadata": {},
   "source": [
    "####"
   ]
  },
  {
   "cell_type": "markdown",
   "id": "058cbf23-01d8-46da-83e8-c416cfe391b3",
   "metadata": {},
   "source": [
    "### 2.1.1 Create your index!"
   ]
  },
  {
   "cell_type": "code",
   "execution_count": 19,
   "id": "276959c9-3025-4fc3-ac6f-a27bbecf5667",
   "metadata": {},
   "outputs": [],
   "source": [
    "# Import libraries and modules\n",
    "from nltk.corpus import stopwords\n",
    "from nltk.tokenize import RegexpTokenizer\n",
    "import re\n",
    "from nltk.stem.porter import PorterStemmer\n",
    "from nltk.stem.snowball import SnowballStemmer"
   ]
  },
  {
   "cell_type": "markdown",
   "id": "552eedb7-eeee-4e72-8af7-3183f8e5dce0",
   "metadata": {},
   "source": [
    "##### Firstly, we define a function `description_to_stems`"
   ]
  },
  {
   "cell_type": "code",
   "execution_count": 21,
   "id": "f6516027",
   "metadata": {},
   "outputs": [],
   "source": [
    "def description_to_stems(desc):\n",
    "    \"\"\" function that takes a description and:\n",
    "        - converts the words to lower case\n",
    "        - removes stopwords\n",
    "        - removes punctutaion\n",
    "        - stems the words\n",
    "        - removes words with len()<=1\n",
    "        \n",
    "    Args:\n",
    "        - descr (str): the description of a place\n",
    "        \n",
    "    Returns:\n",
    "    \n",
    "        \n",
    "    \"\"\"\n",
    "    \n",
    "    lower = desc.lower()\n",
    "    \n",
    "    stopword = set(stopwords.words('english'))\n",
    "\n",
    "    word_tokens = RegexpTokenizer('\\s', gaps=True).tokenize(lower)\n",
    "\n",
    "    regex = r\"[!\\\"#\\$%&\\“\\”\\'\\(\\)\\*\\+,-\\./:;<=>\\?@\\[\\\\\\]\\^_`{\\|}~]\"\n",
    "    no_stops = [re.sub(regex, '', w) for w in word_tokens if not w in stopword]\n",
    "\n",
    "    stemmer = SnowballStemmer('english')\n",
    "    stems = [stemmer.stem(w) for w in no_stops if len(stemmer.stem(w))>1]\n",
    "\n",
    "    words = stems\n",
    "    return words"
   ]
  },
  {
   "cell_type": "code",
   "execution_count": null,
   "id": "2e49ce0c-34d2-4f90-b7ee-0d8d9a05a421",
   "metadata": {},
   "outputs": [],
   "source": [
    "# looping pages and places.tsv; read the description and pass to the preprocessing function description_to_stems()\n",
    "# sequence of words returned that are stored in a dictionary, that maps str -> nr of elements added before (lenght of dict)\n",
    "\n",
    "vocabulary = {}\n",
    "\n",
    "for i in range(400):\n",
    "    els = os.listdir('./tsvs/tsvs_page_{}'.format(i+1))\n",
    "\n",
    "    for name in tqdm(els):\n",
    "        with open ( './tsvs/tsvs_page_{}/{}'.format(i+1, name), 'r', encoding = \"utf-8\") as f:\n",
    "            tsv_reader = csv.reader(f, delimiter=\"\\t\")\n",
    "            for row in tsv_reader:# if i ==4][0]\n",
    "                desc = row[4]\n",
    "                words = set(description_to_stems(desc))\n",
    "                \n",
    "                for word in words:\n",
    "                    if word not in vocabulary.keys():\n",
    "                        vocabulary[word] = int(len(vocabulary))"
   ]
  },
  {
   "cell_type": "code",
   "execution_count": null,
   "id": "cb561c38-68fa-41a1-b2ae-56ee63e33ca2",
   "metadata": {},
   "outputs": [],
   "source": [
    "# saving the vocabulary dictionary to csv\n",
    "\n",
    "with open(\"vocabulary.csv\", \"w\") as voc_f:\n",
    "    w = csv.writer(voc_f)\n",
    "    for key, val in vocabulary.items():\n",
    "        w.writerow([key, val])"
   ]
  },
  {
   "cell_type": "code",
   "execution_count": 512,
   "id": "56ba0f3f",
   "metadata": {
    "collapsed": true,
    "jupyter": {
     "outputs_hidden": true
    },
    "tags": []
   },
   "outputs": [
    {
     "name": "stderr",
     "output_type": "stream",
     "text": [
      "100%|██████████████████████████████████████████| 18/18 [00:00<00:00, 154.98it/s]\n",
      "100%|██████████████████████████████████████████| 18/18 [00:00<00:00, 182.92it/s]\n",
      "100%|██████████████████████████████████████████| 18/18 [00:00<00:00, 227.94it/s]\n",
      "100%|██████████████████████████████████████████| 18/18 [00:00<00:00, 194.37it/s]\n",
      "100%|██████████████████████████████████████████| 18/18 [00:00<00:00, 213.12it/s]\n",
      "100%|██████████████████████████████████████████| 18/18 [00:00<00:00, 179.99it/s]\n",
      "100%|██████████████████████████████████████████| 18/18 [00:00<00:00, 219.09it/s]\n",
      "100%|██████████████████████████████████████████| 18/18 [00:00<00:00, 207.58it/s]\n",
      "100%|██████████████████████████████████████████| 18/18 [00:00<00:00, 161.90it/s]\n",
      "100%|██████████████████████████████████████████| 18/18 [00:00<00:00, 208.21it/s]\n",
      "100%|██████████████████████████████████████████| 18/18 [00:00<00:00, 229.62it/s]\n",
      "100%|██████████████████████████████████████████| 18/18 [00:00<00:00, 235.20it/s]\n",
      "100%|██████████████████████████████████████████| 18/18 [00:00<00:00, 215.97it/s]\n",
      "100%|██████████████████████████████████████████| 18/18 [00:00<00:00, 238.83it/s]\n",
      "100%|██████████████████████████████████████████| 18/18 [00:00<00:00, 161.23it/s]\n",
      "100%|██████████████████████████████████████████| 18/18 [00:00<00:00, 176.07it/s]\n",
      "100%|██████████████████████████████████████████| 18/18 [00:00<00:00, 195.61it/s]\n",
      "100%|██████████████████████████████████████████| 18/18 [00:00<00:00, 150.93it/s]\n",
      "100%|██████████████████████████████████████████| 18/18 [00:00<00:00, 182.31it/s]\n",
      "100%|██████████████████████████████████████████| 18/18 [00:00<00:00, 161.81it/s]\n",
      "100%|██████████████████████████████████████████| 18/18 [00:00<00:00, 185.77it/s]\n",
      "100%|██████████████████████████████████████████| 18/18 [00:00<00:00, 175.93it/s]\n",
      "100%|██████████████████████████████████████████| 18/18 [00:00<00:00, 209.88it/s]\n",
      "100%|██████████████████████████████████████████| 18/18 [00:00<00:00, 157.56it/s]\n",
      "100%|██████████████████████████████████████████| 18/18 [00:00<00:00, 189.23it/s]\n",
      "100%|██████████████████████████████████████████| 18/18 [00:00<00:00, 181.67it/s]\n",
      "100%|██████████████████████████████████████████| 18/18 [00:00<00:00, 154.91it/s]\n",
      "100%|██████████████████████████████████████████| 18/18 [00:00<00:00, 162.75it/s]\n",
      "100%|██████████████████████████████████████████| 18/18 [00:00<00:00, 185.88it/s]\n",
      "100%|██████████████████████████████████████████| 18/18 [00:00<00:00, 183.41it/s]\n",
      "100%|██████████████████████████████████████████| 18/18 [00:00<00:00, 133.12it/s]\n",
      "100%|██████████████████████████████████████████| 18/18 [00:00<00:00, 157.65it/s]\n",
      "100%|██████████████████████████████████████████| 18/18 [00:00<00:00, 163.99it/s]\n",
      "100%|██████████████████████████████████████████| 18/18 [00:00<00:00, 176.00it/s]\n",
      "100%|██████████████████████████████████████████| 18/18 [00:00<00:00, 196.91it/s]\n",
      "100%|██████████████████████████████████████████| 18/18 [00:00<00:00, 215.14it/s]\n",
      "100%|██████████████████████████████████████████| 18/18 [00:00<00:00, 195.47it/s]\n",
      "100%|██████████████████████████████████████████| 18/18 [00:00<00:00, 148.38it/s]\n",
      "100%|██████████████████████████████████████████| 18/18 [00:00<00:00, 147.13it/s]\n",
      "100%|██████████████████████████████████████████| 18/18 [00:00<00:00, 163.93it/s]\n",
      "100%|██████████████████████████████████████████| 18/18 [00:00<00:00, 184.25it/s]\n",
      "100%|██████████████████████████████████████████| 18/18 [00:00<00:00, 190.59it/s]\n",
      "100%|██████████████████████████████████████████| 18/18 [00:00<00:00, 177.31it/s]\n",
      "100%|██████████████████████████████████████████| 18/18 [00:00<00:00, 144.62it/s]\n",
      "100%|██████████████████████████████████████████| 18/18 [00:00<00:00, 164.57it/s]\n",
      "100%|██████████████████████████████████████████| 18/18 [00:00<00:00, 177.30it/s]\n",
      "100%|██████████████████████████████████████████| 18/18 [00:00<00:00, 167.92it/s]\n",
      "100%|██████████████████████████████████████████| 18/18 [00:00<00:00, 202.07it/s]\n",
      "100%|██████████████████████████████████████████| 18/18 [00:00<00:00, 194.79it/s]\n",
      "100%|██████████████████████████████████████████| 18/18 [00:00<00:00, 222.45it/s]\n",
      "100%|██████████████████████████████████████████| 18/18 [00:00<00:00, 212.11it/s]\n",
      "100%|██████████████████████████████████████████| 18/18 [00:00<00:00, 184.42it/s]\n",
      "100%|██████████████████████████████████████████| 18/18 [00:00<00:00, 193.73it/s]\n",
      "100%|██████████████████████████████████████████| 18/18 [00:00<00:00, 205.78it/s]\n",
      "100%|██████████████████████████████████████████| 18/18 [00:00<00:00, 201.60it/s]\n",
      "100%|██████████████████████████████████████████| 18/18 [00:00<00:00, 209.71it/s]\n",
      "100%|██████████████████████████████████████████| 18/18 [00:00<00:00, 219.19it/s]\n",
      "100%|██████████████████████████████████████████| 18/18 [00:00<00:00, 220.79it/s]\n",
      "100%|██████████████████████████████████████████| 18/18 [00:00<00:00, 173.41it/s]\n",
      "100%|██████████████████████████████████████████| 18/18 [00:00<00:00, 208.37it/s]\n",
      "100%|██████████████████████████████████████████| 18/18 [00:00<00:00, 172.64it/s]\n",
      "100%|██████████████████████████████████████████| 18/18 [00:00<00:00, 215.08it/s]\n",
      "100%|██████████████████████████████████████████| 18/18 [00:00<00:00, 198.65it/s]\n",
      "100%|██████████████████████████████████████████| 18/18 [00:00<00:00, 239.15it/s]\n",
      "100%|██████████████████████████████████████████| 18/18 [00:00<00:00, 213.24it/s]\n",
      "100%|██████████████████████████████████████████| 18/18 [00:00<00:00, 203.55it/s]\n",
      "100%|██████████████████████████████████████████| 18/18 [00:00<00:00, 240.92it/s]\n",
      "100%|██████████████████████████████████████████| 18/18 [00:00<00:00, 199.19it/s]\n",
      "100%|██████████████████████████████████████████| 18/18 [00:00<00:00, 222.90it/s]\n",
      "100%|██████████████████████████████████████████| 18/18 [00:00<00:00, 205.03it/s]\n",
      "100%|██████████████████████████████████████████| 18/18 [00:00<00:00, 167.11it/s]\n",
      "100%|██████████████████████████████████████████| 18/18 [00:00<00:00, 265.87it/s]\n",
      "100%|██████████████████████████████████████████| 18/18 [00:00<00:00, 199.43it/s]\n",
      "100%|██████████████████████████████████████████| 18/18 [00:00<00:00, 199.62it/s]\n",
      "100%|██████████████████████████████████████████| 18/18 [00:00<00:00, 216.33it/s]\n",
      "100%|██████████████████████████████████████████| 18/18 [00:00<00:00, 176.52it/s]\n",
      "100%|██████████████████████████████████████████| 18/18 [00:00<00:00, 204.74it/s]\n",
      "100%|██████████████████████████████████████████| 18/18 [00:00<00:00, 223.17it/s]\n",
      "100%|██████████████████████████████████████████| 18/18 [00:00<00:00, 192.49it/s]\n",
      "100%|██████████████████████████████████████████| 18/18 [00:00<00:00, 192.21it/s]\n",
      "100%|██████████████████████████████████████████| 18/18 [00:00<00:00, 211.81it/s]\n",
      "100%|██████████████████████████████████████████| 18/18 [00:00<00:00, 201.72it/s]\n",
      "100%|██████████████████████████████████████████| 18/18 [00:00<00:00, 202.20it/s]\n",
      "100%|██████████████████████████████████████████| 18/18 [00:00<00:00, 216.65it/s]\n",
      "100%|██████████████████████████████████████████| 18/18 [00:00<00:00, 190.76it/s]\n",
      "100%|██████████████████████████████████████████| 18/18 [00:00<00:00, 202.06it/s]\n",
      "100%|██████████████████████████████████████████| 18/18 [00:00<00:00, 201.81it/s]\n",
      "100%|██████████████████████████████████████████| 18/18 [00:00<00:00, 161.67it/s]\n",
      "100%|██████████████████████████████████████████| 18/18 [00:00<00:00, 216.70it/s]\n",
      "100%|██████████████████████████████████████████| 18/18 [00:00<00:00, 191.67it/s]\n",
      "100%|██████████████████████████████████████████| 18/18 [00:00<00:00, 224.36it/s]\n",
      "100%|██████████████████████████████████████████| 18/18 [00:00<00:00, 201.04it/s]\n",
      "100%|██████████████████████████████████████████| 18/18 [00:00<00:00, 155.26it/s]\n",
      "100%|██████████████████████████████████████████| 18/18 [00:00<00:00, 221.68it/s]\n",
      "100%|██████████████████████████████████████████| 18/18 [00:00<00:00, 173.21it/s]\n",
      "100%|██████████████████████████████████████████| 18/18 [00:00<00:00, 172.91it/s]\n",
      "100%|██████████████████████████████████████████| 18/18 [00:00<00:00, 203.73it/s]\n",
      "100%|██████████████████████████████████████████| 18/18 [00:00<00:00, 144.10it/s]\n",
      "100%|██████████████████████████████████████████| 18/18 [00:00<00:00, 173.46it/s]\n",
      "100%|██████████████████████████████████████████| 18/18 [00:00<00:00, 223.45it/s]\n",
      "100%|██████████████████████████████████████████| 18/18 [00:00<00:00, 185.85it/s]\n",
      "100%|██████████████████████████████████████████| 18/18 [00:00<00:00, 217.08it/s]\n",
      "100%|██████████████████████████████████████████| 18/18 [00:00<00:00, 211.43it/s]\n",
      "100%|██████████████████████████████████████████| 18/18 [00:00<00:00, 209.47it/s]\n",
      "100%|██████████████████████████████████████████| 18/18 [00:00<00:00, 173.11it/s]\n",
      "100%|██████████████████████████████████████████| 18/18 [00:00<00:00, 190.19it/s]\n",
      "100%|██████████████████████████████████████████| 18/18 [00:00<00:00, 173.82it/s]\n",
      "100%|██████████████████████████████████████████| 18/18 [00:00<00:00, 138.17it/s]\n",
      "100%|██████████████████████████████████████████| 18/18 [00:00<00:00, 223.89it/s]\n",
      "100%|██████████████████████████████████████████| 18/18 [00:00<00:00, 241.08it/s]\n",
      "100%|██████████████████████████████████████████| 18/18 [00:00<00:00, 154.57it/s]\n",
      "100%|██████████████████████████████████████████| 18/18 [00:00<00:00, 206.02it/s]\n",
      "100%|██████████████████████████████████████████| 18/18 [00:00<00:00, 189.38it/s]\n",
      "100%|██████████████████████████████████████████| 18/18 [00:00<00:00, 168.36it/s]\n",
      "100%|██████████████████████████████████████████| 18/18 [00:00<00:00, 224.03it/s]\n",
      "100%|██████████████████████████████████████████| 18/18 [00:00<00:00, 168.33it/s]\n",
      "100%|██████████████████████████████████████████| 18/18 [00:00<00:00, 217.52it/s]\n",
      "100%|██████████████████████████████████████████| 18/18 [00:00<00:00, 202.96it/s]\n",
      "100%|██████████████████████████████████████████| 18/18 [00:00<00:00, 185.16it/s]\n",
      "100%|██████████████████████████████████████████| 18/18 [00:00<00:00, 176.28it/s]\n",
      "100%|██████████████████████████████████████████| 18/18 [00:00<00:00, 197.58it/s]\n",
      "100%|██████████████████████████████████████████| 18/18 [00:00<00:00, 200.21it/s]\n",
      "100%|██████████████████████████████████████████| 18/18 [00:00<00:00, 176.04it/s]\n",
      "100%|██████████████████████████████████████████| 18/18 [00:00<00:00, 180.69it/s]\n",
      "100%|██████████████████████████████████████████| 18/18 [00:00<00:00, 193.02it/s]\n",
      "100%|██████████████████████████████████████████| 18/18 [00:00<00:00, 174.84it/s]\n",
      "100%|██████████████████████████████████████████| 18/18 [00:00<00:00, 134.80it/s]\n",
      "100%|██████████████████████████████████████████| 18/18 [00:00<00:00, 182.05it/s]\n",
      "100%|██████████████████████████████████████████| 18/18 [00:00<00:00, 193.28it/s]\n",
      "100%|██████████████████████████████████████████| 18/18 [00:00<00:00, 244.51it/s]\n",
      "100%|██████████████████████████████████████████| 18/18 [00:00<00:00, 194.81it/s]\n",
      "100%|██████████████████████████████████████████| 18/18 [00:00<00:00, 147.70it/s]\n",
      "100%|██████████████████████████████████████████| 18/18 [00:00<00:00, 213.81it/s]\n",
      "100%|██████████████████████████████████████████| 18/18 [00:00<00:00, 220.91it/s]\n",
      "100%|██████████████████████████████████████████| 18/18 [00:00<00:00, 217.89it/s]\n",
      "100%|██████████████████████████████████████████| 18/18 [00:00<00:00, 193.79it/s]\n",
      "100%|██████████████████████████████████████████| 18/18 [00:00<00:00, 191.45it/s]\n",
      "100%|██████████████████████████████████████████| 18/18 [00:00<00:00, 195.93it/s]\n",
      "100%|██████████████████████████████████████████| 18/18 [00:00<00:00, 235.89it/s]\n",
      "100%|██████████████████████████████████████████| 18/18 [00:00<00:00, 218.67it/s]\n",
      "100%|██████████████████████████████████████████| 18/18 [00:00<00:00, 237.35it/s]\n",
      "100%|██████████████████████████████████████████| 18/18 [00:00<00:00, 234.06it/s]\n",
      "100%|██████████████████████████████████████████| 18/18 [00:00<00:00, 194.88it/s]\n",
      "100%|██████████████████████████████████████████| 18/18 [00:00<00:00, 175.45it/s]\n",
      "100%|██████████████████████████████████████████| 18/18 [00:00<00:00, 198.82it/s]\n",
      "100%|██████████████████████████████████████████| 18/18 [00:00<00:00, 189.95it/s]\n",
      "100%|██████████████████████████████████████████| 18/18 [00:00<00:00, 218.51it/s]\n",
      "100%|██████████████████████████████████████████| 18/18 [00:00<00:00, 183.15it/s]\n",
      "100%|██████████████████████████████████████████| 18/18 [00:00<00:00, 226.21it/s]\n",
      "100%|██████████████████████████████████████████| 18/18 [00:00<00:00, 211.60it/s]\n",
      "100%|██████████████████████████████████████████| 18/18 [00:00<00:00, 202.55it/s]\n",
      "100%|██████████████████████████████████████████| 18/18 [00:00<00:00, 171.29it/s]\n",
      "100%|██████████████████████████████████████████| 18/18 [00:00<00:00, 225.62it/s]\n",
      "100%|██████████████████████████████████████████| 18/18 [00:00<00:00, 196.93it/s]\n",
      "100%|██████████████████████████████████████████| 18/18 [00:00<00:00, 186.27it/s]\n",
      "100%|██████████████████████████████████████████| 18/18 [00:00<00:00, 203.26it/s]\n",
      "100%|██████████████████████████████████████████| 18/18 [00:00<00:00, 202.46it/s]\n",
      "100%|██████████████████████████████████████████| 18/18 [00:00<00:00, 193.88it/s]\n",
      "100%|██████████████████████████████████████████| 18/18 [00:00<00:00, 218.85it/s]\n",
      "100%|██████████████████████████████████████████| 18/18 [00:00<00:00, 199.43it/s]\n",
      "100%|██████████████████████████████████████████| 18/18 [00:00<00:00, 197.89it/s]\n",
      "100%|██████████████████████████████████████████| 18/18 [00:00<00:00, 217.32it/s]\n",
      "100%|██████████████████████████████████████████| 18/18 [00:00<00:00, 164.72it/s]\n",
      "100%|██████████████████████████████████████████| 18/18 [00:00<00:00, 171.54it/s]\n",
      "100%|██████████████████████████████████████████| 18/18 [00:00<00:00, 243.44it/s]\n",
      "100%|██████████████████████████████████████████| 18/18 [00:00<00:00, 192.19it/s]\n",
      "100%|██████████████████████████████████████████| 18/18 [00:00<00:00, 194.67it/s]\n",
      "100%|██████████████████████████████████████████| 18/18 [00:00<00:00, 178.31it/s]\n",
      "100%|██████████████████████████████████████████| 18/18 [00:00<00:00, 166.42it/s]\n",
      "100%|██████████████████████████████████████████| 18/18 [00:00<00:00, 198.19it/s]\n",
      "100%|██████████████████████████████████████████| 18/18 [00:00<00:00, 167.74it/s]\n",
      "100%|██████████████████████████████████████████| 18/18 [00:00<00:00, 189.22it/s]\n",
      "100%|██████████████████████████████████████████| 18/18 [00:00<00:00, 222.87it/s]\n",
      "100%|██████████████████████████████████████████| 18/18 [00:00<00:00, 218.74it/s]\n",
      "100%|██████████████████████████████████████████| 18/18 [00:00<00:00, 192.00it/s]\n",
      "100%|██████████████████████████████████████████| 18/18 [00:00<00:00, 170.56it/s]\n",
      "100%|██████████████████████████████████████████| 18/18 [00:00<00:00, 203.74it/s]\n",
      "100%|██████████████████████████████████████████| 18/18 [00:00<00:00, 192.16it/s]\n",
      "100%|██████████████████████████████████████████| 18/18 [00:00<00:00, 174.71it/s]\n",
      "100%|██████████████████████████████████████████| 18/18 [00:00<00:00, 173.78it/s]\n",
      "100%|██████████████████████████████████████████| 18/18 [00:00<00:00, 170.71it/s]\n",
      "100%|██████████████████████████████████████████| 18/18 [00:00<00:00, 177.49it/s]\n",
      "100%|██████████████████████████████████████████| 18/18 [00:00<00:00, 151.86it/s]\n",
      "100%|██████████████████████████████████████████| 18/18 [00:00<00:00, 204.19it/s]\n",
      "100%|██████████████████████████████████████████| 18/18 [00:00<00:00, 192.01it/s]\n",
      "100%|██████████████████████████████████████████| 18/18 [00:00<00:00, 192.74it/s]\n",
      "100%|██████████████████████████████████████████| 18/18 [00:00<00:00, 182.81it/s]\n",
      "100%|██████████████████████████████████████████| 18/18 [00:00<00:00, 201.57it/s]\n",
      "100%|██████████████████████████████████████████| 18/18 [00:00<00:00, 182.64it/s]\n",
      "100%|██████████████████████████████████████████| 18/18 [00:00<00:00, 201.85it/s]\n",
      "100%|██████████████████████████████████████████| 18/18 [00:00<00:00, 197.57it/s]\n",
      "100%|██████████████████████████████████████████| 18/18 [00:00<00:00, 171.34it/s]\n",
      "100%|██████████████████████████████████████████| 18/18 [00:00<00:00, 189.32it/s]\n",
      "100%|██████████████████████████████████████████| 18/18 [00:00<00:00, 211.38it/s]\n",
      "100%|██████████████████████████████████████████| 18/18 [00:00<00:00, 191.79it/s]\n",
      "100%|██████████████████████████████████████████| 18/18 [00:00<00:00, 206.48it/s]\n",
      "100%|██████████████████████████████████████████| 18/18 [00:00<00:00, 196.05it/s]\n",
      "100%|██████████████████████████████████████████| 18/18 [00:00<00:00, 187.08it/s]\n",
      "100%|██████████████████████████████████████████| 18/18 [00:00<00:00, 198.55it/s]\n",
      "100%|██████████████████████████████████████████| 18/18 [00:00<00:00, 177.10it/s]\n",
      "100%|██████████████████████████████████████████| 18/18 [00:00<00:00, 192.64it/s]\n",
      "100%|██████████████████████████████████████████| 18/18 [00:00<00:00, 202.28it/s]\n",
      "100%|██████████████████████████████████████████| 18/18 [00:00<00:00, 175.95it/s]\n",
      "100%|██████████████████████████████████████████| 18/18 [00:00<00:00, 175.80it/s]\n",
      "100%|██████████████████████████████████████████| 18/18 [00:00<00:00, 147.45it/s]\n",
      "100%|██████████████████████████████████████████| 18/18 [00:00<00:00, 197.02it/s]\n",
      "100%|██████████████████████████████████████████| 18/18 [00:00<00:00, 162.22it/s]\n",
      "100%|██████████████████████████████████████████| 18/18 [00:00<00:00, 168.55it/s]\n",
      "100%|██████████████████████████████████████████| 18/18 [00:00<00:00, 167.73it/s]\n",
      "100%|██████████████████████████████████████████| 18/18 [00:00<00:00, 190.99it/s]\n",
      "100%|██████████████████████████████████████████| 18/18 [00:00<00:00, 198.63it/s]\n",
      "100%|██████████████████████████████████████████| 18/18 [00:00<00:00, 173.07it/s]\n",
      "100%|██████████████████████████████████████████| 18/18 [00:00<00:00, 193.99it/s]\n",
      "100%|██████████████████████████████████████████| 18/18 [00:00<00:00, 203.69it/s]\n",
      "100%|██████████████████████████████████████████| 18/18 [00:00<00:00, 189.26it/s]\n",
      "100%|██████████████████████████████████████████| 18/18 [00:00<00:00, 175.67it/s]\n",
      "100%|██████████████████████████████████████████| 18/18 [00:00<00:00, 216.86it/s]\n",
      "100%|██████████████████████████████████████████| 18/18 [00:00<00:00, 218.70it/s]\n",
      "100%|██████████████████████████████████████████| 18/18 [00:00<00:00, 183.84it/s]\n",
      "100%|██████████████████████████████████████████| 18/18 [00:00<00:00, 177.08it/s]\n",
      "100%|██████████████████████████████████████████| 18/18 [00:00<00:00, 201.48it/s]\n",
      "100%|██████████████████████████████████████████| 18/18 [00:00<00:00, 203.40it/s]\n",
      "100%|██████████████████████████████████████████| 18/18 [00:00<00:00, 193.47it/s]\n",
      "100%|██████████████████████████████████████████| 18/18 [00:00<00:00, 228.28it/s]\n",
      "100%|██████████████████████████████████████████| 18/18 [00:00<00:00, 181.77it/s]\n",
      "100%|██████████████████████████████████████████| 18/18 [00:00<00:00, 189.66it/s]\n",
      "100%|██████████████████████████████████████████| 18/18 [00:00<00:00, 184.24it/s]\n",
      "100%|██████████████████████████████████████████| 18/18 [00:00<00:00, 161.61it/s]\n",
      "100%|██████████████████████████████████████████| 18/18 [00:00<00:00, 207.38it/s]\n",
      "100%|██████████████████████████████████████████| 18/18 [00:00<00:00, 155.41it/s]\n",
      "100%|██████████████████████████████████████████| 18/18 [00:00<00:00, 197.35it/s]\n",
      "100%|██████████████████████████████████████████| 18/18 [00:00<00:00, 220.70it/s]\n",
      "100%|██████████████████████████████████████████| 18/18 [00:00<00:00, 215.16it/s]\n",
      "100%|██████████████████████████████████████████| 18/18 [00:00<00:00, 189.42it/s]\n",
      "100%|██████████████████████████████████████████| 18/18 [00:00<00:00, 210.03it/s]\n",
      "100%|██████████████████████████████████████████| 18/18 [00:00<00:00, 183.16it/s]\n",
      "100%|██████████████████████████████████████████| 18/18 [00:00<00:00, 170.31it/s]\n",
      "100%|██████████████████████████████████████████| 18/18 [00:00<00:00, 234.50it/s]\n",
      "100%|██████████████████████████████████████████| 18/18 [00:00<00:00, 160.57it/s]\n",
      "100%|██████████████████████████████████████████| 18/18 [00:00<00:00, 155.16it/s]\n",
      "100%|██████████████████████████████████████████| 18/18 [00:00<00:00, 178.15it/s]\n",
      "100%|██████████████████████████████████████████| 18/18 [00:00<00:00, 166.26it/s]\n",
      "100%|██████████████████████████████████████████| 18/18 [00:00<00:00, 182.02it/s]\n",
      "100%|██████████████████████████████████████████| 18/18 [00:00<00:00, 210.11it/s]\n",
      "100%|██████████████████████████████████████████| 18/18 [00:00<00:00, 163.41it/s]\n",
      "100%|██████████████████████████████████████████| 18/18 [00:00<00:00, 208.52it/s]\n",
      "100%|██████████████████████████████████████████| 18/18 [00:00<00:00, 162.97it/s]\n",
      "100%|██████████████████████████████████████████| 18/18 [00:00<00:00, 182.76it/s]\n",
      "100%|██████████████████████████████████████████| 18/18 [00:00<00:00, 201.69it/s]\n",
      "100%|██████████████████████████████████████████| 18/18 [00:00<00:00, 173.32it/s]\n",
      "100%|██████████████████████████████████████████| 18/18 [00:00<00:00, 186.22it/s]\n",
      "100%|██████████████████████████████████████████| 18/18 [00:00<00:00, 177.08it/s]\n",
      "100%|██████████████████████████████████████████| 18/18 [00:00<00:00, 184.59it/s]\n",
      "100%|██████████████████████████████████████████| 18/18 [00:00<00:00, 189.62it/s]\n",
      "100%|██████████████████████████████████████████| 18/18 [00:00<00:00, 155.77it/s]\n",
      "100%|██████████████████████████████████████████| 18/18 [00:00<00:00, 155.52it/s]\n",
      "100%|██████████████████████████████████████████| 18/18 [00:00<00:00, 215.90it/s]\n",
      "100%|██████████████████████████████████████████| 18/18 [00:00<00:00, 180.94it/s]\n",
      "100%|██████████████████████████████████████████| 18/18 [00:00<00:00, 165.54it/s]\n",
      "100%|██████████████████████████████████████████| 18/18 [00:00<00:00, 166.23it/s]\n",
      "100%|██████████████████████████████████████████| 18/18 [00:00<00:00, 218.97it/s]\n",
      "100%|██████████████████████████████████████████| 18/18 [00:00<00:00, 191.49it/s]\n",
      "100%|██████████████████████████████████████████| 18/18 [00:00<00:00, 158.25it/s]\n",
      "100%|██████████████████████████████████████████| 18/18 [00:00<00:00, 201.08it/s]\n",
      "100%|██████████████████████████████████████████| 18/18 [00:00<00:00, 152.33it/s]\n",
      "100%|██████████████████████████████████████████| 18/18 [00:00<00:00, 205.72it/s]\n",
      "100%|██████████████████████████████████████████| 18/18 [00:00<00:00, 203.27it/s]\n",
      "100%|██████████████████████████████████████████| 18/18 [00:00<00:00, 211.12it/s]\n",
      "100%|██████████████████████████████████████████| 18/18 [00:00<00:00, 186.60it/s]\n",
      "100%|██████████████████████████████████████████| 18/18 [00:00<00:00, 156.43it/s]\n",
      "100%|██████████████████████████████████████████| 18/18 [00:00<00:00, 198.55it/s]\n",
      "100%|██████████████████████████████████████████| 18/18 [00:00<00:00, 175.03it/s]\n",
      "100%|██████████████████████████████████████████| 18/18 [00:00<00:00, 163.81it/s]\n",
      "100%|██████████████████████████████████████████| 18/18 [00:00<00:00, 171.83it/s]\n",
      "100%|██████████████████████████████████████████| 18/18 [00:00<00:00, 191.26it/s]\n",
      "100%|██████████████████████████████████████████| 18/18 [00:00<00:00, 183.88it/s]\n",
      "100%|██████████████████████████████████████████| 18/18 [00:00<00:00, 192.41it/s]\n",
      "100%|██████████████████████████████████████████| 18/18 [00:00<00:00, 167.40it/s]\n",
      "100%|██████████████████████████████████████████| 18/18 [00:00<00:00, 153.55it/s]\n",
      "100%|██████████████████████████████████████████| 18/18 [00:00<00:00, 214.14it/s]\n",
      "100%|██████████████████████████████████████████| 18/18 [00:00<00:00, 170.66it/s]\n",
      "100%|██████████████████████████████████████████| 18/18 [00:00<00:00, 204.96it/s]\n",
      "100%|██████████████████████████████████████████| 18/18 [00:00<00:00, 191.76it/s]\n",
      "100%|██████████████████████████████████████████| 18/18 [00:00<00:00, 168.31it/s]\n",
      "100%|██████████████████████████████████████████| 18/18 [00:00<00:00, 196.83it/s]\n",
      "100%|██████████████████████████████████████████| 18/18 [00:00<00:00, 163.45it/s]\n",
      "100%|██████████████████████████████████████████| 18/18 [00:00<00:00, 210.12it/s]\n",
      "100%|██████████████████████████████████████████| 18/18 [00:00<00:00, 171.03it/s]\n",
      "100%|██████████████████████████████████████████| 18/18 [00:00<00:00, 223.79it/s]\n",
      "100%|██████████████████████████████████████████| 18/18 [00:00<00:00, 207.55it/s]\n",
      "100%|██████████████████████████████████████████| 18/18 [00:00<00:00, 187.29it/s]\n",
      "100%|██████████████████████████████████████████| 18/18 [00:00<00:00, 153.34it/s]\n",
      "100%|██████████████████████████████████████████| 18/18 [00:00<00:00, 219.52it/s]\n",
      "100%|██████████████████████████████████████████| 18/18 [00:00<00:00, 194.49it/s]\n",
      "100%|██████████████████████████████████████████| 18/18 [00:00<00:00, 216.87it/s]\n",
      "100%|██████████████████████████████████████████| 18/18 [00:00<00:00, 164.73it/s]\n",
      "100%|██████████████████████████████████████████| 18/18 [00:00<00:00, 195.13it/s]\n",
      "100%|██████████████████████████████████████████| 18/18 [00:00<00:00, 200.08it/s]\n",
      "100%|██████████████████████████████████████████| 18/18 [00:00<00:00, 186.45it/s]\n",
      "100%|██████████████████████████████████████████| 18/18 [00:00<00:00, 166.81it/s]\n",
      "100%|██████████████████████████████████████████| 18/18 [00:00<00:00, 217.27it/s]\n",
      "100%|██████████████████████████████████████████| 18/18 [00:00<00:00, 204.39it/s]\n",
      "100%|██████████████████████████████████████████| 18/18 [00:00<00:00, 176.07it/s]\n",
      "100%|██████████████████████████████████████████| 18/18 [00:00<00:00, 208.98it/s]\n",
      "100%|██████████████████████████████████████████| 18/18 [00:00<00:00, 198.26it/s]\n",
      "100%|██████████████████████████████████████████| 18/18 [00:00<00:00, 180.30it/s]\n",
      "100%|██████████████████████████████████████████| 18/18 [00:00<00:00, 200.22it/s]\n",
      "100%|██████████████████████████████████████████| 18/18 [00:00<00:00, 186.61it/s]\n",
      "100%|██████████████████████████████████████████| 18/18 [00:00<00:00, 132.75it/s]\n",
      "100%|██████████████████████████████████████████| 18/18 [00:00<00:00, 189.19it/s]\n",
      "100%|██████████████████████████████████████████| 18/18 [00:00<00:00, 194.59it/s]\n",
      "100%|██████████████████████████████████████████| 18/18 [00:00<00:00, 192.07it/s]\n",
      "100%|██████████████████████████████████████████| 18/18 [00:00<00:00, 177.61it/s]\n",
      "100%|██████████████████████████████████████████| 18/18 [00:00<00:00, 181.98it/s]\n",
      "100%|██████████████████████████████████████████| 18/18 [00:00<00:00, 174.07it/s]\n",
      "100%|██████████████████████████████████████████| 18/18 [00:00<00:00, 198.51it/s]\n",
      "100%|██████████████████████████████████████████| 18/18 [00:00<00:00, 161.37it/s]\n",
      "100%|██████████████████████████████████████████| 18/18 [00:00<00:00, 187.81it/s]\n",
      "100%|██████████████████████████████████████████| 18/18 [00:00<00:00, 200.16it/s]\n",
      "100%|██████████████████████████████████████████| 18/18 [00:00<00:00, 207.52it/s]\n",
      "100%|██████████████████████████████████████████| 18/18 [00:00<00:00, 216.02it/s]\n",
      "100%|██████████████████████████████████████████| 18/18 [00:00<00:00, 192.39it/s]\n",
      "100%|██████████████████████████████████████████| 18/18 [00:00<00:00, 191.05it/s]\n",
      "100%|██████████████████████████████████████████| 18/18 [00:00<00:00, 193.51it/s]\n",
      "100%|██████████████████████████████████████████| 18/18 [00:00<00:00, 182.98it/s]\n",
      "100%|██████████████████████████████████████████| 18/18 [00:00<00:00, 216.45it/s]\n",
      "100%|██████████████████████████████████████████| 18/18 [00:00<00:00, 201.95it/s]\n",
      "100%|██████████████████████████████████████████| 18/18 [00:00<00:00, 194.14it/s]\n",
      "100%|██████████████████████████████████████████| 18/18 [00:00<00:00, 171.84it/s]\n",
      "100%|██████████████████████████████████████████| 18/18 [00:00<00:00, 174.67it/s]\n",
      "100%|██████████████████████████████████████████| 18/18 [00:00<00:00, 181.06it/s]\n",
      "100%|██████████████████████████████████████████| 18/18 [00:00<00:00, 203.33it/s]\n",
      "100%|██████████████████████████████████████████| 18/18 [00:00<00:00, 218.52it/s]\n",
      "100%|██████████████████████████████████████████| 18/18 [00:00<00:00, 218.16it/s]\n",
      "100%|██████████████████████████████████████████| 18/18 [00:00<00:00, 210.43it/s]\n",
      "100%|██████████████████████████████████████████| 18/18 [00:00<00:00, 202.67it/s]\n",
      "100%|██████████████████████████████████████████| 18/18 [00:00<00:00, 160.59it/s]\n",
      "100%|██████████████████████████████████████████| 18/18 [00:00<00:00, 218.78it/s]\n",
      "100%|██████████████████████████████████████████| 18/18 [00:00<00:00, 175.78it/s]\n",
      "100%|██████████████████████████████████████████| 18/18 [00:00<00:00, 197.92it/s]\n",
      "100%|██████████████████████████████████████████| 18/18 [00:00<00:00, 208.60it/s]\n",
      "100%|██████████████████████████████████████████| 18/18 [00:00<00:00, 171.44it/s]\n",
      "100%|██████████████████████████████████████████| 18/18 [00:00<00:00, 207.49it/s]\n",
      "100%|██████████████████████████████████████████| 18/18 [00:00<00:00, 207.52it/s]\n",
      "100%|██████████████████████████████████████████| 18/18 [00:00<00:00, 167.73it/s]\n",
      "100%|██████████████████████████████████████████| 18/18 [00:00<00:00, 188.78it/s]\n",
      "100%|██████████████████████████████████████████| 18/18 [00:00<00:00, 192.56it/s]\n",
      "100%|██████████████████████████████████████████| 18/18 [00:00<00:00, 196.02it/s]\n",
      "100%|██████████████████████████████████████████| 18/18 [00:00<00:00, 215.90it/s]\n",
      "100%|██████████████████████████████████████████| 18/18 [00:00<00:00, 208.60it/s]\n",
      "100%|██████████████████████████████████████████| 18/18 [00:00<00:00, 214.91it/s]\n",
      "100%|██████████████████████████████████████████| 18/18 [00:00<00:00, 201.22it/s]\n",
      "100%|██████████████████████████████████████████| 18/18 [00:00<00:00, 181.57it/s]\n",
      "100%|██████████████████████████████████████████| 18/18 [00:00<00:00, 175.66it/s]\n",
      "100%|██████████████████████████████████████████| 18/18 [00:00<00:00, 174.68it/s]\n",
      "100%|██████████████████████████████████████████| 18/18 [00:00<00:00, 217.93it/s]\n",
      "100%|██████████████████████████████████████████| 18/18 [00:00<00:00, 166.82it/s]\n",
      "100%|██████████████████████████████████████████| 18/18 [00:00<00:00, 184.82it/s]\n",
      "100%|██████████████████████████████████████████| 18/18 [00:00<00:00, 215.00it/s]\n",
      "100%|██████████████████████████████████████████| 18/18 [00:00<00:00, 195.45it/s]\n",
      "100%|██████████████████████████████████████████| 18/18 [00:00<00:00, 194.21it/s]\n",
      "100%|██████████████████████████████████████████| 18/18 [00:00<00:00, 177.65it/s]\n",
      "100%|██████████████████████████████████████████| 18/18 [00:00<00:00, 136.87it/s]\n",
      "100%|██████████████████████████████████████████| 18/18 [00:00<00:00, 170.69it/s]\n",
      "100%|██████████████████████████████████████████| 18/18 [00:00<00:00, 209.69it/s]\n",
      "100%|██████████████████████████████████████████| 18/18 [00:00<00:00, 220.34it/s]\n",
      "100%|██████████████████████████████████████████| 18/18 [00:00<00:00, 193.33it/s]\n",
      "100%|██████████████████████████████████████████| 18/18 [00:00<00:00, 191.09it/s]\n",
      "100%|██████████████████████████████████████████| 18/18 [00:00<00:00, 196.98it/s]\n",
      "100%|██████████████████████████████████████████| 18/18 [00:00<00:00, 168.97it/s]\n",
      "100%|██████████████████████████████████████████| 18/18 [00:00<00:00, 151.61it/s]\n",
      "100%|██████████████████████████████████████████| 18/18 [00:00<00:00, 190.70it/s]\n",
      "100%|██████████████████████████████████████████| 18/18 [00:00<00:00, 187.19it/s]\n",
      "100%|██████████████████████████████████████████| 18/18 [00:00<00:00, 193.55it/s]\n",
      "100%|██████████████████████████████████████████| 18/18 [00:00<00:00, 205.98it/s]\n",
      "100%|██████████████████████████████████████████| 18/18 [00:00<00:00, 220.65it/s]\n",
      "100%|██████████████████████████████████████████| 18/18 [00:00<00:00, 181.67it/s]\n",
      "100%|██████████████████████████████████████████| 18/18 [00:00<00:00, 188.03it/s]\n",
      "100%|██████████████████████████████████████████| 18/18 [00:00<00:00, 193.81it/s]\n",
      "100%|██████████████████████████████████████████| 18/18 [00:00<00:00, 211.52it/s]\n",
      "100%|██████████████████████████████████████████| 18/18 [00:00<00:00, 225.19it/s]\n",
      "100%|██████████████████████████████████████████| 18/18 [00:00<00:00, 256.66it/s]\n",
      "100%|██████████████████████████████████████████| 18/18 [00:00<00:00, 143.15it/s]\n",
      "100%|██████████████████████████████████████████| 18/18 [00:00<00:00, 163.80it/s]\n",
      "100%|██████████████████████████████████████████| 18/18 [00:00<00:00, 170.87it/s]\n",
      "100%|██████████████████████████████████████████| 18/18 [00:00<00:00, 160.03it/s]\n",
      "100%|██████████████████████████████████████████| 18/18 [00:00<00:00, 170.74it/s]\n",
      "100%|██████████████████████████████████████████| 18/18 [00:00<00:00, 154.56it/s]\n",
      "100%|██████████████████████████████████████████| 18/18 [00:00<00:00, 227.38it/s]\n",
      "100%|██████████████████████████████████████████| 18/18 [00:00<00:00, 155.64it/s]\n",
      "100%|██████████████████████████████████████████| 18/18 [00:00<00:00, 165.98it/s]\n",
      "100%|██████████████████████████████████████████| 18/18 [00:00<00:00, 216.65it/s]\n",
      "100%|██████████████████████████████████████████| 18/18 [00:00<00:00, 180.32it/s]\n",
      "100%|██████████████████████████████████████████| 18/18 [00:00<00:00, 159.65it/s]\n",
      "100%|██████████████████████████████████████████| 18/18 [00:00<00:00, 192.77it/s]\n",
      "100%|██████████████████████████████████████████| 18/18 [00:00<00:00, 143.04it/s]\n",
      "100%|██████████████████████████████████████████| 18/18 [00:00<00:00, 180.95it/s]\n",
      "100%|██████████████████████████████████████████| 18/18 [00:00<00:00, 202.59it/s]\n",
      "100%|██████████████████████████████████████████| 18/18 [00:00<00:00, 217.95it/s]\n",
      "100%|██████████████████████████████████████████| 18/18 [00:00<00:00, 207.97it/s]\n"
     ]
    }
   ],
   "source": [
    "# preprocessing the descriptions, map documents words to index and generate a dict\n",
    "# of index -> page_index/documentname.tsv\n",
    "mapping = {}\n",
    "\n",
    "for i in range(400):\n",
    "    els = os.listdir('./tsvs/tsvs_page_{}'.format(i+1))\n",
    "\n",
    "    for name in tqdm(els):\n",
    "        with open ( './tsvs/tsvs_page_{}/{}'.format(i+1, name), 'r') as f:\n",
    "            tsv_reader = csv.reader(f, delimiter=\"\\t\")\n",
    "            for row in tsv_reader:# if i ==4][0]\n",
    "                desc = row[4]\n",
    "                words = set(description_to_stems(desc))\n",
    "                for word in words:\n",
    "                    idx = vocabulary[word]\n",
    "                    try:\n",
    "                        mapping[idx].append(str(i+1)+'/'+name) \n",
    "                    except:\n",
    "                        mapping[idx] = [str(i+1)+'/'+name]"
   ]
  },
  {
   "cell_type": "code",
   "execution_count": 458,
   "id": "d9f2b963",
   "metadata": {
    "tags": []
   },
   "outputs": [],
   "source": [
    "# saving the term_id to document_name dictionary to csv\n",
    "\n",
    "with open(\"termid_document.csv\", \"w\") as map_f:\n",
    "    w = csv.writer(map_f)\n",
    "    for key, val in mapping.items():\n",
    "        w.writerow([key, val])"
   ]
  },
  {
   "cell_type": "code",
   "execution_count": 441,
   "id": "9ef27907",
   "metadata": {},
   "outputs": [
    {
     "name": "stdout",
     "output_type": "stream",
     "text": [
      "museum american horror\n"
     ]
    }
   ],
   "source": [
    "inp = str(input())"
   ]
  },
  {
   "cell_type": "code",
   "execution_count": 454,
   "id": "b005b26c",
   "metadata": {},
   "outputs": [],
   "source": [
    "# given a string input with blank space each word is mapped to the vocabulary index, which is then mapped to\n",
    "# the matching documents by the termid_document dict. \n",
    "# the intersection of matching document sets is determined and the document names returned\n",
    "\n",
    "def docs_matching_query(inp):\n",
    "    sub_matches = []\n",
    "    for el in inp.split(' '):\n",
    "        try:\n",
    "            idx = vocabulary[el]\n",
    "            subm = mapping[idx]\n",
    "            sub_matches.append(subm)\n",
    "        except:\n",
    "            pass    \n",
    "    try:\n",
    "        both = set(sub_matches[0])\n",
    "        for sub_query in sub_matches:\n",
    "            both = both.intersection(sub_query)\n",
    "    except:\n",
    "        both = ''\n",
    "        \n",
    "    return both\n"
   ]
  },
  {
   "cell_type": "code",
   "execution_count": 488,
   "id": "1ba9ed00",
   "metadata": {},
   "outputs": [
    {
     "data": {
      "text/html": [
       "<div>\n",
       "<style scoped>\n",
       "    .dataframe tbody tr th:only-of-type {\n",
       "        vertical-align: middle;\n",
       "    }\n",
       "\n",
       "    .dataframe tbody tr th {\n",
       "        vertical-align: top;\n",
       "    }\n",
       "\n",
       "    .dataframe thead th {\n",
       "        text-align: right;\n",
       "    }\n",
       "</style>\n",
       "<table border=\"1\" class=\"dataframe\">\n",
       "  <thead>\n",
       "    <tr style=\"text-align: right;\">\n",
       "      <th></th>\n",
       "      <th>placeName</th>\n",
       "      <th>placeDesc</th>\n",
       "      <th>placeURL</th>\n",
       "    </tr>\n",
       "  </thead>\n",
       "  <tbody>\n",
       "    <tr>\n",
       "      <th>0</th>\n",
       "      <td>Murals of Maxo Vanka</td>\n",
       "      <td>Created in protest against industrial capitali...</td>\n",
       "      <td>https://www.atlasobscura.com/places/murals-of-...</td>\n",
       "    </tr>\n",
       "    <tr>\n",
       "      <th>0</th>\n",
       "      <td>Grave of Ed Gein</td>\n",
       "      <td>While not technically a serial killer, the ter...</td>\n",
       "      <td>https://www.atlasobscura.com/places/plainfield...</td>\n",
       "    </tr>\n",
       "    <tr>\n",
       "      <th>0</th>\n",
       "      <td>Buckhorn Saloon and Museum</td>\n",
       "      <td>Drink a beer whilst you admire stuffed cougars...</td>\n",
       "      <td>https://www.atlasobscura.com/places/buckhorn-s...</td>\n",
       "    </tr>\n",
       "    <tr>\n",
       "      <th>0</th>\n",
       "      <td>PsychoBarn</td>\n",
       "      <td>If you’re casually strolling down Piccadilly a...</td>\n",
       "      <td>https://www.atlasobscura.com/places/psychobarn</td>\n",
       "    </tr>\n",
       "  </tbody>\n",
       "</table>\n",
       "</div>"
      ],
      "text/plain": [
       "                    placeName  \\\n",
       "0        Murals of Maxo Vanka   \n",
       "0            Grave of Ed Gein   \n",
       "0  Buckhorn Saloon and Museum   \n",
       "0                  PsychoBarn   \n",
       "\n",
       "                                           placeDesc  \\\n",
       "0  Created in protest against industrial capitali...   \n",
       "0  While not technically a serial killer, the ter...   \n",
       "0  Drink a beer whilst you admire stuffed cougars...   \n",
       "0  If you’re casually strolling down Piccadilly a...   \n",
       "\n",
       "                                            placeURL  \n",
       "0  https://www.atlasobscura.com/places/murals-of-...  \n",
       "0  https://www.atlasobscura.com/places/plainfield...  \n",
       "0  https://www.atlasobscura.com/places/buckhorn-s...  \n",
       "0     https://www.atlasobscura.com/places/psychobarn  "
      ]
     },
     "execution_count": 488,
     "metadata": {},
     "output_type": "execute_result"
    }
   ],
   "source": [
    "# print data of the matching documents \n",
    "import pandas as pd\n",
    "\n",
    "docs = docs_matching_query(inp)\n",
    "dfs = []\n",
    "for el in docs:\n",
    "    i, name = el.split('/')\n",
    "    with open ( './tsvs/tsvs_page_{}/{}'.format(int(i), name), 'r') as f:\n",
    "        tsv_reader = csv.reader(f, delimiter=\"\\t\")\n",
    "        for row in tsv_reader:# if i ==4][0]\n",
    "            new_df = pd.DataFrame([row[0], row[4], row[14]]).T\n",
    "            dfs.append(new_df)\n",
    "\n",
    "df = pd.concat(dfs)\n",
    "df.columns=['placeName', 'placeDesc', 'placeURL']\n",
    "df"
   ]
  },
  {
   "cell_type": "markdown",
   "id": "7f88199c-ec60-4bb5-832b-bf21f6f0b436",
   "metadata": {},
   "source": [
    "# 2.2?"
   ]
  },
  {
   "cell_type": "code",
   "execution_count": null,
   "id": "a24aed49",
   "metadata": {},
   "outputs": [],
   "source": []
  },
  {
   "cell_type": "code",
   "execution_count": 570,
   "id": "43599645",
   "metadata": {},
   "outputs": [],
   "source": [
    "import numpy as np\n",
    "from collections import Counter\n",
    "import pandas as pd"
   ]
  },
  {
   "cell_type": "code",
   "execution_count": null,
   "id": "0334aff6",
   "metadata": {},
   "outputs": [],
   "source": []
  },
  {
   "cell_type": "code",
   "execution_count": 496,
   "id": "d1e36933",
   "metadata": {},
   "outputs": [],
   "source": [
    "# weights for each word in vocabulary, term_id -> weight_term\n",
    "\n",
    "weights = {}\n",
    "n = 7200\n",
    "\n",
    "for key in mapping.keys():\n",
    "    weights[key] = np.log(n/len(mapping[key]))"
   ]
  },
  {
   "cell_type": "code",
   "execution_count": null,
   "id": "1be4d7ee",
   "metadata": {},
   "outputs": [],
   "source": []
  },
  {
   "cell_type": "code",
   "execution_count": 521,
   "id": "129eff1d",
   "metadata": {
    "collapsed": true,
    "jupyter": {
     "outputs_hidden": true
    }
   },
   "outputs": [
    {
     "name": "stderr",
     "output_type": "stream",
     "text": [
      "100%|██████████████████████████████████████████| 18/18 [00:00<00:00, 139.03it/s]\n",
      "100%|██████████████████████████████████████████| 18/18 [00:00<00:00, 154.93it/s]\n",
      "100%|██████████████████████████████████████████| 18/18 [00:00<00:00, 142.44it/s]\n",
      "100%|██████████████████████████████████████████| 18/18 [00:00<00:00, 161.71it/s]\n",
      "100%|██████████████████████████████████████████| 18/18 [00:00<00:00, 165.61it/s]\n",
      "100%|██████████████████████████████████████████| 18/18 [00:00<00:00, 163.92it/s]\n",
      "100%|██████████████████████████████████████████| 18/18 [00:00<00:00, 173.55it/s]\n",
      "100%|██████████████████████████████████████████| 18/18 [00:00<00:00, 182.21it/s]\n",
      "100%|██████████████████████████████████████████| 18/18 [00:00<00:00, 146.46it/s]\n",
      "100%|██████████████████████████████████████████| 18/18 [00:00<00:00, 198.04it/s]\n",
      "100%|██████████████████████████████████████████| 18/18 [00:00<00:00, 238.79it/s]\n",
      "100%|██████████████████████████████████████████| 18/18 [00:00<00:00, 241.19it/s]\n",
      "100%|██████████████████████████████████████████| 18/18 [00:00<00:00, 209.24it/s]\n",
      "100%|██████████████████████████████████████████| 18/18 [00:00<00:00, 235.59it/s]\n",
      "100%|██████████████████████████████████████████| 18/18 [00:00<00:00, 173.85it/s]\n",
      "100%|██████████████████████████████████████████| 18/18 [00:00<00:00, 196.51it/s]\n",
      "100%|██████████████████████████████████████████| 18/18 [00:00<00:00, 228.45it/s]\n",
      "100%|██████████████████████████████████████████| 18/18 [00:00<00:00, 173.07it/s]\n",
      "100%|██████████████████████████████████████████| 18/18 [00:00<00:00, 214.45it/s]\n",
      "100%|██████████████████████████████████████████| 18/18 [00:00<00:00, 204.74it/s]\n",
      "100%|██████████████████████████████████████████| 18/18 [00:00<00:00, 206.38it/s]\n",
      "100%|██████████████████████████████████████████| 18/18 [00:00<00:00, 181.88it/s]\n",
      "100%|██████████████████████████████████████████| 18/18 [00:00<00:00, 213.35it/s]\n",
      "100%|██████████████████████████████████████████| 18/18 [00:00<00:00, 166.11it/s]\n",
      "100%|██████████████████████████████████████████| 18/18 [00:00<00:00, 208.95it/s]\n",
      "100%|██████████████████████████████████████████| 18/18 [00:00<00:00, 176.75it/s]\n",
      "100%|██████████████████████████████████████████| 18/18 [00:00<00:00, 171.18it/s]\n",
      "100%|██████████████████████████████████████████| 18/18 [00:00<00:00, 181.21it/s]\n",
      "100%|██████████████████████████████████████████| 18/18 [00:00<00:00, 163.12it/s]\n",
      "100%|██████████████████████████████████████████| 18/18 [00:00<00:00, 173.87it/s]\n",
      "100%|██████████████████████████████████████████| 18/18 [00:00<00:00, 143.31it/s]\n",
      "100%|██████████████████████████████████████████| 18/18 [00:00<00:00, 172.25it/s]\n",
      "100%|██████████████████████████████████████████| 18/18 [00:00<00:00, 173.34it/s]\n",
      "100%|██████████████████████████████████████████| 18/18 [00:00<00:00, 160.65it/s]\n",
      "100%|██████████████████████████████████████████| 18/18 [00:00<00:00, 191.30it/s]\n",
      "100%|██████████████████████████████████████████| 18/18 [00:00<00:00, 207.89it/s]\n",
      "100%|██████████████████████████████████████████| 18/18 [00:00<00:00, 194.27it/s]\n",
      "100%|██████████████████████████████████████████| 18/18 [00:00<00:00, 185.51it/s]\n",
      "100%|██████████████████████████████████████████| 18/18 [00:00<00:00, 163.42it/s]\n",
      "100%|██████████████████████████████████████████| 18/18 [00:00<00:00, 155.95it/s]\n",
      "100%|██████████████████████████████████████████| 18/18 [00:00<00:00, 218.90it/s]\n",
      "100%|██████████████████████████████████████████| 18/18 [00:00<00:00, 198.26it/s]\n",
      "100%|██████████████████████████████████████████| 18/18 [00:00<00:00, 187.21it/s]\n",
      "100%|██████████████████████████████████████████| 18/18 [00:00<00:00, 184.92it/s]\n",
      "100%|██████████████████████████████████████████| 18/18 [00:00<00:00, 121.42it/s]\n",
      "100%|██████████████████████████████████████████| 18/18 [00:00<00:00, 178.42it/s]\n",
      "100%|██████████████████████████████████████████| 18/18 [00:00<00:00, 178.24it/s]\n",
      "100%|██████████████████████████████████████████| 18/18 [00:00<00:00, 172.82it/s]\n",
      "100%|██████████████████████████████████████████| 18/18 [00:00<00:00, 203.89it/s]\n",
      "100%|██████████████████████████████████████████| 18/18 [00:00<00:00, 203.77it/s]\n",
      "100%|██████████████████████████████████████████| 18/18 [00:00<00:00, 181.06it/s]\n",
      "100%|██████████████████████████████████████████| 18/18 [00:00<00:00, 164.80it/s]\n",
      "100%|██████████████████████████████████████████| 18/18 [00:00<00:00, 119.68it/s]\n",
      "100%|██████████████████████████████████████████| 18/18 [00:00<00:00, 175.70it/s]\n",
      "100%|██████████████████████████████████████████| 18/18 [00:00<00:00, 161.16it/s]\n",
      "100%|██████████████████████████████████████████| 18/18 [00:00<00:00, 187.84it/s]\n",
      "100%|██████████████████████████████████████████| 18/18 [00:00<00:00, 154.02it/s]\n",
      "100%|██████████████████████████████████████████| 18/18 [00:00<00:00, 185.08it/s]\n",
      "100%|██████████████████████████████████████████| 18/18 [00:00<00:00, 153.58it/s]\n",
      "100%|██████████████████████████████████████████| 18/18 [00:00<00:00, 178.30it/s]\n",
      "100%|██████████████████████████████████████████| 18/18 [00:00<00:00, 140.79it/s]\n",
      "100%|██████████████████████████████████████████| 18/18 [00:00<00:00, 172.45it/s]\n",
      "100%|██████████████████████████████████████████| 18/18 [00:00<00:00, 142.91it/s]\n",
      "100%|██████████████████████████████████████████| 18/18 [00:00<00:00, 182.15it/s]\n",
      "100%|██████████████████████████████████████████| 18/18 [00:00<00:00, 181.10it/s]\n",
      "100%|██████████████████████████████████████████| 18/18 [00:00<00:00, 139.78it/s]\n",
      "100%|██████████████████████████████████████████| 18/18 [00:00<00:00, 215.28it/s]\n",
      "100%|██████████████████████████████████████████| 18/18 [00:00<00:00, 175.32it/s]\n",
      "100%|██████████████████████████████████████████| 18/18 [00:00<00:00, 198.95it/s]\n",
      "100%|██████████████████████████████████████████| 18/18 [00:00<00:00, 188.93it/s]\n",
      "100%|██████████████████████████████████████████| 18/18 [00:00<00:00, 142.23it/s]\n",
      "100%|██████████████████████████████████████████| 18/18 [00:00<00:00, 228.99it/s]\n",
      "100%|██████████████████████████████████████████| 18/18 [00:00<00:00, 169.14it/s]\n",
      "100%|██████████████████████████████████████████| 18/18 [00:00<00:00, 173.05it/s]\n",
      "100%|██████████████████████████████████████████| 18/18 [00:00<00:00, 189.74it/s]\n",
      "100%|██████████████████████████████████████████| 18/18 [00:00<00:00, 159.34it/s]\n",
      "100%|██████████████████████████████████████████| 18/18 [00:00<00:00, 161.34it/s]\n",
      "100%|██████████████████████████████████████████| 18/18 [00:00<00:00, 186.24it/s]\n",
      "100%|██████████████████████████████████████████| 18/18 [00:00<00:00, 152.23it/s]\n",
      "100%|██████████████████████████████████████████| 18/18 [00:00<00:00, 165.21it/s]\n",
      "100%|██████████████████████████████████████████| 18/18 [00:00<00:00, 168.07it/s]\n",
      "100%|██████████████████████████████████████████| 18/18 [00:00<00:00, 183.20it/s]\n",
      "100%|██████████████████████████████████████████| 18/18 [00:00<00:00, 186.58it/s]\n",
      "100%|██████████████████████████████████████████| 18/18 [00:00<00:00, 205.66it/s]\n",
      "100%|██████████████████████████████████████████| 18/18 [00:00<00:00, 182.06it/s]\n",
      "100%|██████████████████████████████████████████| 18/18 [00:00<00:00, 193.20it/s]\n",
      "100%|██████████████████████████████████████████| 18/18 [00:00<00:00, 191.94it/s]\n",
      "100%|██████████████████████████████████████████| 18/18 [00:00<00:00, 168.23it/s]\n",
      "100%|██████████████████████████████████████████| 18/18 [00:00<00:00, 202.15it/s]\n",
      "100%|██████████████████████████████████████████| 18/18 [00:00<00:00, 154.97it/s]\n",
      "100%|██████████████████████████████████████████| 18/18 [00:00<00:00, 203.52it/s]\n",
      "100%|██████████████████████████████████████████| 18/18 [00:00<00:00, 168.96it/s]\n",
      "100%|██████████████████████████████████████████| 18/18 [00:00<00:00, 128.18it/s]\n",
      "100%|██████████████████████████████████████████| 18/18 [00:00<00:00, 199.64it/s]\n",
      "100%|██████████████████████████████████████████| 18/18 [00:00<00:00, 168.27it/s]\n",
      "100%|██████████████████████████████████████████| 18/18 [00:00<00:00, 179.85it/s]\n",
      "100%|██████████████████████████████████████████| 18/18 [00:00<00:00, 200.03it/s]\n",
      "100%|██████████████████████████████████████████| 18/18 [00:00<00:00, 152.45it/s]\n",
      "100%|██████████████████████████████████████████| 18/18 [00:00<00:00, 172.47it/s]\n",
      "100%|██████████████████████████████████████████| 18/18 [00:00<00:00, 219.32it/s]\n",
      "100%|██████████████████████████████████████████| 18/18 [00:00<00:00, 165.56it/s]\n",
      "100%|██████████████████████████████████████████| 18/18 [00:00<00:00, 197.10it/s]\n",
      "100%|██████████████████████████████████████████| 18/18 [00:00<00:00, 202.62it/s]\n",
      "100%|██████████████████████████████████████████| 18/18 [00:00<00:00, 170.47it/s]\n",
      "100%|██████████████████████████████████████████| 18/18 [00:00<00:00, 170.05it/s]\n",
      "100%|██████████████████████████████████████████| 18/18 [00:00<00:00, 170.15it/s]\n",
      "100%|██████████████████████████████████████████| 18/18 [00:00<00:00, 170.90it/s]\n",
      "100%|██████████████████████████████████████████| 18/18 [00:00<00:00, 158.91it/s]\n",
      "100%|██████████████████████████████████████████| 18/18 [00:00<00:00, 211.70it/s]\n",
      "100%|██████████████████████████████████████████| 18/18 [00:00<00:00, 232.59it/s]\n",
      "100%|██████████████████████████████████████████| 18/18 [00:00<00:00, 142.97it/s]\n",
      "100%|██████████████████████████████████████████| 18/18 [00:00<00:00, 194.29it/s]\n",
      "100%|██████████████████████████████████████████| 18/18 [00:00<00:00, 171.99it/s]\n",
      "100%|██████████████████████████████████████████| 18/18 [00:00<00:00, 163.27it/s]\n",
      "100%|██████████████████████████████████████████| 18/18 [00:00<00:00, 201.59it/s]\n",
      "100%|██████████████████████████████████████████| 18/18 [00:00<00:00, 170.50it/s]\n",
      "100%|██████████████████████████████████████████| 18/18 [00:00<00:00, 176.58it/s]\n",
      "100%|██████████████████████████████████████████| 18/18 [00:00<00:00, 177.32it/s]\n",
      "100%|██████████████████████████████████████████| 18/18 [00:00<00:00, 153.85it/s]\n",
      "100%|██████████████████████████████████████████| 18/18 [00:00<00:00, 156.87it/s]\n",
      "100%|██████████████████████████████████████████| 18/18 [00:00<00:00, 199.64it/s]\n",
      "100%|██████████████████████████████████████████| 18/18 [00:00<00:00, 194.83it/s]\n",
      "100%|██████████████████████████████████████████| 18/18 [00:00<00:00, 178.38it/s]\n",
      "100%|██████████████████████████████████████████| 18/18 [00:00<00:00, 162.17it/s]\n",
      "100%|██████████████████████████████████████████| 18/18 [00:00<00:00, 175.69it/s]\n",
      "100%|██████████████████████████████████████████| 18/18 [00:00<00:00, 153.29it/s]\n",
      "100%|██████████████████████████████████████████| 18/18 [00:00<00:00, 166.57it/s]\n",
      "100%|██████████████████████████████████████████| 18/18 [00:00<00:00, 202.05it/s]\n",
      "100%|██████████████████████████████████████████| 18/18 [00:00<00:00, 164.91it/s]\n",
      "100%|██████████████████████████████████████████| 18/18 [00:00<00:00, 180.64it/s]\n",
      "100%|██████████████████████████████████████████| 18/18 [00:00<00:00, 164.11it/s]\n",
      "100%|██████████████████████████████████████████| 18/18 [00:00<00:00, 190.49it/s]\n",
      "100%|██████████████████████████████████████████| 18/18 [00:00<00:00, 221.68it/s]\n",
      "100%|██████████████████████████████████████████| 18/18 [00:00<00:00, 178.23it/s]\n",
      "100%|██████████████████████████████████████████| 18/18 [00:00<00:00, 213.36it/s]\n",
      "100%|██████████████████████████████████████████| 18/18 [00:00<00:00, 173.85it/s]\n",
      "100%|██████████████████████████████████████████| 18/18 [00:00<00:00, 187.00it/s]\n",
      "100%|██████████████████████████████████████████| 18/18 [00:00<00:00, 178.43it/s]\n",
      "100%|██████████████████████████████████████████| 18/18 [00:00<00:00, 209.99it/s]\n",
      "100%|██████████████████████████████████████████| 18/18 [00:00<00:00, 190.36it/s]\n",
      "100%|██████████████████████████████████████████| 18/18 [00:00<00:00, 227.34it/s]\n",
      "100%|██████████████████████████████████████████| 18/18 [00:00<00:00, 235.85it/s]\n",
      "100%|██████████████████████████████████████████| 18/18 [00:00<00:00, 166.91it/s]\n",
      "100%|██████████████████████████████████████████| 18/18 [00:00<00:00, 140.21it/s]\n",
      "100%|██████████████████████████████████████████| 18/18 [00:00<00:00, 172.90it/s]\n",
      "100%|██████████████████████████████████████████| 18/18 [00:00<00:00, 173.69it/s]\n",
      "100%|██████████████████████████████████████████| 18/18 [00:00<00:00, 177.02it/s]\n",
      "100%|██████████████████████████████████████████| 18/18 [00:00<00:00, 155.59it/s]\n",
      "100%|██████████████████████████████████████████| 18/18 [00:00<00:00, 188.09it/s]\n",
      "100%|██████████████████████████████████████████| 18/18 [00:00<00:00, 170.51it/s]\n",
      "100%|██████████████████████████████████████████| 18/18 [00:00<00:00, 157.17it/s]\n",
      "100%|██████████████████████████████████████████| 18/18 [00:00<00:00, 149.02it/s]\n",
      "100%|██████████████████████████████████████████| 18/18 [00:00<00:00, 204.46it/s]\n",
      "100%|██████████████████████████████████████████| 18/18 [00:00<00:00, 158.94it/s]\n",
      "100%|██████████████████████████████████████████| 18/18 [00:00<00:00, 167.70it/s]\n",
      "100%|██████████████████████████████████████████| 18/18 [00:00<00:00, 150.94it/s]\n",
      "100%|██████████████████████████████████████████| 18/18 [00:00<00:00, 165.51it/s]\n",
      "100%|██████████████████████████████████████████| 18/18 [00:00<00:00, 158.60it/s]\n",
      "100%|██████████████████████████████████████████| 18/18 [00:00<00:00, 188.81it/s]\n",
      "100%|██████████████████████████████████████████| 18/18 [00:00<00:00, 164.31it/s]\n",
      "100%|██████████████████████████████████████████| 18/18 [00:00<00:00, 173.33it/s]\n",
      "100%|██████████████████████████████████████████| 18/18 [00:00<00:00, 174.71it/s]\n",
      "100%|██████████████████████████████████████████| 18/18 [00:00<00:00, 152.97it/s]\n",
      "100%|██████████████████████████████████████████| 18/18 [00:00<00:00, 145.68it/s]\n",
      "100%|██████████████████████████████████████████| 18/18 [00:00<00:00, 199.31it/s]\n",
      "100%|██████████████████████████████████████████| 18/18 [00:00<00:00, 180.96it/s]\n",
      "100%|██████████████████████████████████████████| 18/18 [00:00<00:00, 173.90it/s]\n",
      "100%|██████████████████████████████████████████| 18/18 [00:00<00:00, 186.67it/s]\n",
      "100%|██████████████████████████████████████████| 18/18 [00:00<00:00, 181.10it/s]\n",
      "100%|██████████████████████████████████████████| 18/18 [00:00<00:00, 193.43it/s]\n",
      "100%|██████████████████████████████████████████| 18/18 [00:00<00:00, 140.14it/s]\n",
      "100%|██████████████████████████████████████████| 18/18 [00:00<00:00, 154.08it/s]\n",
      "100%|██████████████████████████████████████████| 18/18 [00:00<00:00, 214.96it/s]\n",
      "100%|██████████████████████████████████████████| 18/18 [00:00<00:00, 220.45it/s]\n",
      "100%|██████████████████████████████████████████| 18/18 [00:00<00:00, 146.45it/s]\n",
      "100%|██████████████████████████████████████████| 18/18 [00:00<00:00, 149.83it/s]\n",
      "100%|██████████████████████████████████████████| 18/18 [00:00<00:00, 140.01it/s]\n",
      "100%|██████████████████████████████████████████| 18/18 [00:00<00:00, 151.33it/s]\n",
      "100%|██████████████████████████████████████████| 18/18 [00:00<00:00, 171.84it/s]\n",
      "100%|██████████████████████████████████████████| 18/18 [00:00<00:00, 176.88it/s]\n",
      "100%|██████████████████████████████████████████| 18/18 [00:00<00:00, 165.46it/s]\n",
      "100%|██████████████████████████████████████████| 18/18 [00:00<00:00, 169.62it/s]\n",
      "100%|██████████████████████████████████████████| 18/18 [00:00<00:00, 141.66it/s]\n",
      "100%|██████████████████████████████████████████| 18/18 [00:00<00:00, 165.22it/s]\n",
      "100%|██████████████████████████████████████████| 18/18 [00:00<00:00, 179.88it/s]\n",
      "100%|██████████████████████████████████████████| 18/18 [00:00<00:00, 192.09it/s]\n",
      "100%|██████████████████████████████████████████| 18/18 [00:00<00:00, 171.48it/s]\n",
      "100%|██████████████████████████████████████████| 18/18 [00:00<00:00, 180.92it/s]\n",
      "100%|██████████████████████████████████████████| 18/18 [00:00<00:00, 177.94it/s]\n",
      "100%|██████████████████████████████████████████| 18/18 [00:00<00:00, 181.82it/s]\n",
      "100%|██████████████████████████████████████████| 18/18 [00:00<00:00, 186.85it/s]\n",
      "100%|██████████████████████████████████████████| 18/18 [00:00<00:00, 163.23it/s]\n",
      "100%|██████████████████████████████████████████| 18/18 [00:00<00:00, 174.87it/s]\n",
      "100%|██████████████████████████████████████████| 18/18 [00:00<00:00, 162.41it/s]\n",
      "100%|██████████████████████████████████████████| 18/18 [00:00<00:00, 185.21it/s]\n",
      "100%|██████████████████████████████████████████| 18/18 [00:00<00:00, 172.86it/s]\n",
      "100%|██████████████████████████████████████████| 18/18 [00:00<00:00, 197.05it/s]\n",
      "100%|██████████████████████████████████████████| 18/18 [00:00<00:00, 161.12it/s]\n",
      "100%|██████████████████████████████████████████| 18/18 [00:00<00:00, 204.46it/s]\n",
      "100%|██████████████████████████████████████████| 18/18 [00:00<00:00, 167.29it/s]\n",
      "100%|██████████████████████████████████████████| 18/18 [00:00<00:00, 181.75it/s]\n",
      "100%|██████████████████████████████████████████| 18/18 [00:00<00:00, 179.67it/s]\n",
      "100%|██████████████████████████████████████████| 18/18 [00:00<00:00, 159.56it/s]\n",
      "100%|██████████████████████████████████████████| 18/18 [00:00<00:00, 166.47it/s]\n",
      "100%|██████████████████████████████████████████| 18/18 [00:00<00:00, 158.84it/s]\n",
      "100%|██████████████████████████████████████████| 18/18 [00:00<00:00, 170.16it/s]\n",
      "100%|██████████████████████████████████████████| 18/18 [00:00<00:00, 134.26it/s]\n",
      "100%|██████████████████████████████████████████| 18/18 [00:00<00:00, 142.42it/s]\n",
      "100%|██████████████████████████████████████████| 18/18 [00:00<00:00, 142.93it/s]\n",
      "100%|██████████████████████████████████████████| 18/18 [00:00<00:00, 143.69it/s]\n",
      "100%|██████████████████████████████████████████| 18/18 [00:00<00:00, 194.38it/s]\n",
      "100%|██████████████████████████████████████████| 18/18 [00:00<00:00, 180.97it/s]\n",
      "100%|██████████████████████████████████████████| 18/18 [00:00<00:00, 194.52it/s]\n",
      "100%|██████████████████████████████████████████| 18/18 [00:00<00:00, 165.87it/s]\n",
      "100%|██████████████████████████████████████████| 18/18 [00:00<00:00, 134.28it/s]\n",
      "100%|██████████████████████████████████████████| 18/18 [00:00<00:00, 148.43it/s]\n",
      "100%|██████████████████████████████████████████| 18/18 [00:00<00:00, 197.49it/s]\n",
      "100%|██████████████████████████████████████████| 18/18 [00:00<00:00, 210.27it/s]\n",
      "100%|██████████████████████████████████████████| 18/18 [00:00<00:00, 173.15it/s]\n",
      "100%|██████████████████████████████████████████| 18/18 [00:00<00:00, 160.29it/s]\n",
      "100%|██████████████████████████████████████████| 18/18 [00:00<00:00, 137.52it/s]\n",
      "100%|██████████████████████████████████████████| 18/18 [00:00<00:00, 154.01it/s]\n",
      "100%|██████████████████████████████████████████| 18/18 [00:00<00:00, 174.78it/s]\n",
      "100%|██████████████████████████████████████████| 18/18 [00:00<00:00, 241.27it/s]\n",
      "100%|██████████████████████████████████████████| 18/18 [00:00<00:00, 175.67it/s]\n",
      "100%|██████████████████████████████████████████| 18/18 [00:00<00:00, 165.42it/s]\n",
      "100%|██████████████████████████████████████████| 18/18 [00:00<00:00, 159.33it/s]\n",
      "100%|██████████████████████████████████████████| 18/18 [00:00<00:00, 156.87it/s]\n",
      "100%|██████████████████████████████████████████| 18/18 [00:00<00:00, 162.52it/s]\n",
      "100%|██████████████████████████████████████████| 18/18 [00:00<00:00, 130.74it/s]\n",
      "100%|██████████████████████████████████████████| 18/18 [00:00<00:00, 178.00it/s]\n",
      "100%|██████████████████████████████████████████| 18/18 [00:00<00:00, 203.26it/s]\n",
      "100%|██████████████████████████████████████████| 18/18 [00:00<00:00, 175.46it/s]\n",
      "100%|██████████████████████████████████████████| 18/18 [00:00<00:00, 150.93it/s]\n",
      "100%|██████████████████████████████████████████| 18/18 [00:00<00:00, 170.07it/s]\n",
      "100%|██████████████████████████████████████████| 18/18 [00:00<00:00, 155.58it/s]\n",
      "100%|██████████████████████████████████████████| 18/18 [00:00<00:00, 184.36it/s]\n",
      "100%|██████████████████████████████████████████| 18/18 [00:00<00:00, 191.79it/s]\n",
      "100%|██████████████████████████████████████████| 18/18 [00:00<00:00, 161.39it/s]\n",
      "100%|██████████████████████████████████████████| 18/18 [00:00<00:00, 152.84it/s]\n",
      "100%|██████████████████████████████████████████| 18/18 [00:00<00:00, 190.57it/s]\n",
      "100%|██████████████████████████████████████████| 18/18 [00:00<00:00, 183.03it/s]\n",
      "100%|██████████████████████████████████████████| 18/18 [00:00<00:00, 194.15it/s]\n",
      "100%|██████████████████████████████████████████| 18/18 [00:00<00:00, 237.00it/s]\n",
      "100%|██████████████████████████████████████████| 18/18 [00:00<00:00, 139.59it/s]\n",
      "100%|██████████████████████████████████████████| 18/18 [00:00<00:00, 194.53it/s]\n",
      "100%|██████████████████████████████████████████| 18/18 [00:00<00:00, 185.62it/s]\n",
      "100%|██████████████████████████████████████████| 18/18 [00:00<00:00, 165.68it/s]\n",
      "100%|██████████████████████████████████████████| 18/18 [00:00<00:00, 198.27it/s]\n",
      "100%|██████████████████████████████████████████| 18/18 [00:00<00:00, 142.72it/s]\n",
      "100%|██████████████████████████████████████████| 18/18 [00:00<00:00, 145.21it/s]\n",
      "100%|██████████████████████████████████████████| 18/18 [00:00<00:00, 174.24it/s]\n",
      "100%|██████████████████████████████████████████| 18/18 [00:00<00:00, 178.32it/s]\n",
      "100%|██████████████████████████████████████████| 18/18 [00:00<00:00, 207.96it/s]\n",
      "100%|██████████████████████████████████████████| 18/18 [00:00<00:00, 145.17it/s]\n",
      "100%|██████████████████████████████████████████| 18/18 [00:00<00:00, 124.87it/s]\n",
      "100%|██████████████████████████████████████████| 18/18 [00:00<00:00, 168.09it/s]\n",
      "100%|██████████████████████████████████████████| 18/18 [00:00<00:00, 139.37it/s]\n",
      "100%|██████████████████████████████████████████| 18/18 [00:00<00:00, 121.77it/s]\n",
      "100%|██████████████████████████████████████████| 18/18 [00:00<00:00, 145.29it/s]\n",
      "100%|██████████████████████████████████████████| 18/18 [00:00<00:00, 194.67it/s]\n",
      "100%|██████████████████████████████████████████| 18/18 [00:00<00:00, 173.07it/s]\n",
      "100%|██████████████████████████████████████████| 18/18 [00:00<00:00, 170.55it/s]\n",
      "100%|██████████████████████████████████████████| 18/18 [00:00<00:00, 206.46it/s]\n",
      "100%|██████████████████████████████████████████| 18/18 [00:00<00:00, 134.92it/s]\n",
      "100%|██████████████████████████████████████████| 18/18 [00:00<00:00, 148.67it/s]\n",
      "100%|██████████████████████████████████████████| 18/18 [00:00<00:00, 175.73it/s]\n",
      "100%|██████████████████████████████████████████| 18/18 [00:00<00:00, 177.20it/s]\n",
      "100%|██████████████████████████████████████████| 18/18 [00:00<00:00, 186.96it/s]\n",
      "100%|██████████████████████████████████████████| 18/18 [00:00<00:00, 134.22it/s]\n",
      "100%|██████████████████████████████████████████| 18/18 [00:00<00:00, 162.99it/s]\n",
      "100%|██████████████████████████████████████████| 18/18 [00:00<00:00, 186.62it/s]\n",
      "100%|██████████████████████████████████████████| 18/18 [00:00<00:00, 184.08it/s]\n",
      "100%|██████████████████████████████████████████| 18/18 [00:00<00:00, 163.20it/s]\n",
      "100%|██████████████████████████████████████████| 18/18 [00:00<00:00, 150.76it/s]\n",
      "100%|██████████████████████████████████████████| 18/18 [00:00<00:00, 147.36it/s]\n",
      "100%|██████████████████████████████████████████| 18/18 [00:00<00:00, 161.05it/s]\n",
      "100%|██████████████████████████████████████████| 18/18 [00:00<00:00, 149.00it/s]\n",
      "100%|██████████████████████████████████████████| 18/18 [00:00<00:00, 144.89it/s]\n",
      "100%|██████████████████████████████████████████| 18/18 [00:00<00:00, 168.22it/s]\n",
      "100%|██████████████████████████████████████████| 18/18 [00:00<00:00, 149.78it/s]\n",
      "100%|██████████████████████████████████████████| 18/18 [00:00<00:00, 167.08it/s]\n",
      "100%|██████████████████████████████████████████| 18/18 [00:00<00:00, 181.31it/s]\n",
      "100%|██████████████████████████████████████████| 18/18 [00:00<00:00, 138.49it/s]\n",
      "100%|██████████████████████████████████████████| 18/18 [00:00<00:00, 175.97it/s]\n",
      "100%|██████████████████████████████████████████| 18/18 [00:00<00:00, 157.31it/s]\n",
      "100%|██████████████████████████████████████████| 18/18 [00:00<00:00, 147.91it/s]\n",
      "100%|██████████████████████████████████████████| 18/18 [00:00<00:00, 120.21it/s]\n",
      "100%|██████████████████████████████████████████| 18/18 [00:00<00:00, 197.31it/s]\n",
      "100%|██████████████████████████████████████████| 18/18 [00:00<00:00, 186.17it/s]\n",
      "100%|██████████████████████████████████████████| 18/18 [00:00<00:00, 180.17it/s]\n",
      "100%|██████████████████████████████████████████| 18/18 [00:00<00:00, 171.82it/s]\n",
      "100%|██████████████████████████████████████████| 18/18 [00:00<00:00, 175.63it/s]\n",
      "100%|██████████████████████████████████████████| 18/18 [00:00<00:00, 148.37it/s]\n",
      "100%|██████████████████████████████████████████| 18/18 [00:00<00:00, 144.46it/s]\n",
      "100%|██████████████████████████████████████████| 18/18 [00:00<00:00, 195.57it/s]\n",
      "100%|██████████████████████████████████████████| 18/18 [00:00<00:00, 201.57it/s]\n",
      "100%|██████████████████████████████████████████| 18/18 [00:00<00:00, 173.22it/s]\n",
      "100%|██████████████████████████████████████████| 18/18 [00:00<00:00, 194.66it/s]\n",
      "100%|██████████████████████████████████████████| 18/18 [00:00<00:00, 153.07it/s]\n",
      "100%|██████████████████████████████████████████| 18/18 [00:00<00:00, 194.20it/s]\n",
      "100%|██████████████████████████████████████████| 18/18 [00:00<00:00, 176.29it/s]\n",
      "100%|██████████████████████████████████████████| 18/18 [00:00<00:00, 157.18it/s]\n",
      "100%|██████████████████████████████████████████| 18/18 [00:00<00:00, 201.00it/s]\n",
      "100%|██████████████████████████████████████████| 18/18 [00:00<00:00, 160.07it/s]\n",
      "100%|██████████████████████████████████████████| 18/18 [00:00<00:00, 163.45it/s]\n",
      "100%|██████████████████████████████████████████| 18/18 [00:00<00:00, 183.48it/s]\n",
      "100%|██████████████████████████████████████████| 18/18 [00:00<00:00, 161.37it/s]\n",
      "100%|██████████████████████████████████████████| 18/18 [00:00<00:00, 143.55it/s]\n",
      "100%|██████████████████████████████████████████| 18/18 [00:00<00:00, 160.51it/s]\n",
      "100%|██████████████████████████████████████████| 18/18 [00:00<00:00, 155.43it/s]\n",
      "100%|██████████████████████████████████████████| 18/18 [00:00<00:00, 156.34it/s]\n",
      "100%|██████████████████████████████████████████| 18/18 [00:00<00:00, 139.44it/s]\n",
      "100%|██████████████████████████████████████████| 18/18 [00:00<00:00, 191.16it/s]\n",
      "100%|██████████████████████████████████████████| 18/18 [00:00<00:00, 159.41it/s]\n",
      "100%|██████████████████████████████████████████| 18/18 [00:00<00:00, 182.49it/s]\n",
      "100%|██████████████████████████████████████████| 18/18 [00:00<00:00, 161.87it/s]\n",
      "100%|██████████████████████████████████████████| 18/18 [00:00<00:00, 168.25it/s]\n",
      "100%|██████████████████████████████████████████| 18/18 [00:00<00:00, 168.03it/s]\n",
      "100%|██████████████████████████████████████████| 18/18 [00:00<00:00, 160.00it/s]\n",
      "100%|██████████████████████████████████████████| 18/18 [00:00<00:00, 195.25it/s]\n",
      "100%|██████████████████████████████████████████| 18/18 [00:00<00:00, 170.05it/s]\n",
      "100%|██████████████████████████████████████████| 18/18 [00:00<00:00, 158.14it/s]\n",
      "100%|██████████████████████████████████████████| 18/18 [00:00<00:00, 174.04it/s]\n",
      "100%|██████████████████████████████████████████| 18/18 [00:00<00:00, 173.61it/s]\n",
      "100%|██████████████████████████████████████████| 18/18 [00:00<00:00, 182.49it/s]\n",
      "100%|██████████████████████████████████████████| 18/18 [00:00<00:00, 188.19it/s]\n",
      "100%|██████████████████████████████████████████| 18/18 [00:00<00:00, 190.93it/s]\n",
      "100%|██████████████████████████████████████████| 18/18 [00:00<00:00, 171.70it/s]\n",
      "100%|██████████████████████████████████████████| 18/18 [00:00<00:00, 143.15it/s]\n",
      "100%|██████████████████████████████████████████| 18/18 [00:00<00:00, 190.04it/s]\n",
      "100%|██████████████████████████████████████████| 18/18 [00:00<00:00, 189.22it/s]\n",
      "100%|██████████████████████████████████████████| 18/18 [00:00<00:00, 194.08it/s]\n",
      "100%|██████████████████████████████████████████| 18/18 [00:00<00:00, 191.51it/s]\n",
      "100%|██████████████████████████████████████████| 18/18 [00:00<00:00, 149.58it/s]\n",
      "100%|██████████████████████████████████████████| 18/18 [00:00<00:00, 195.94it/s]\n",
      "100%|██████████████████████████████████████████| 18/18 [00:00<00:00, 201.36it/s]\n",
      "100%|██████████████████████████████████████████| 18/18 [00:00<00:00, 234.94it/s]\n",
      "100%|██████████████████████████████████████████| 18/18 [00:00<00:00, 204.02it/s]\n",
      "100%|██████████████████████████████████████████| 18/18 [00:00<00:00, 189.68it/s]\n",
      "100%|██████████████████████████████████████████| 18/18 [00:00<00:00, 194.50it/s]\n",
      "100%|██████████████████████████████████████████| 18/18 [00:00<00:00, 170.83it/s]\n",
      "100%|██████████████████████████████████████████| 18/18 [00:00<00:00, 186.87it/s]\n",
      "100%|██████████████████████████████████████████| 18/18 [00:00<00:00, 212.11it/s]\n",
      "100%|██████████████████████████████████████████| 18/18 [00:00<00:00, 198.39it/s]\n",
      "100%|██████████████████████████████████████████| 18/18 [00:00<00:00, 190.71it/s]\n",
      "100%|██████████████████████████████████████████| 18/18 [00:00<00:00, 202.81it/s]\n",
      "100%|██████████████████████████████████████████| 18/18 [00:00<00:00, 169.71it/s]\n",
      "100%|██████████████████████████████████████████| 18/18 [00:00<00:00, 215.68it/s]\n",
      "100%|██████████████████████████████████████████| 18/18 [00:00<00:00, 149.28it/s]\n",
      "100%|██████████████████████████████████████████| 18/18 [00:00<00:00, 207.38it/s]\n",
      "100%|██████████████████████████████████████████| 18/18 [00:00<00:00, 173.18it/s]\n",
      "100%|██████████████████████████████████████████| 18/18 [00:00<00:00, 147.58it/s]\n",
      "100%|██████████████████████████████████████████| 18/18 [00:00<00:00, 166.62it/s]\n",
      "100%|██████████████████████████████████████████| 18/18 [00:00<00:00, 144.92it/s]\n",
      "100%|██████████████████████████████████████████| 18/18 [00:00<00:00, 162.44it/s]\n",
      "100%|██████████████████████████████████████████| 18/18 [00:00<00:00, 172.86it/s]\n",
      "100%|██████████████████████████████████████████| 18/18 [00:00<00:00, 194.49it/s]\n",
      "100%|██████████████████████████████████████████| 18/18 [00:00<00:00, 212.13it/s]\n",
      "100%|██████████████████████████████████████████| 18/18 [00:00<00:00, 151.41it/s]\n",
      "100%|██████████████████████████████████████████| 18/18 [00:00<00:00, 175.07it/s]\n",
      "100%|██████████████████████████████████████████| 18/18 [00:00<00:00, 174.76it/s]\n",
      "100%|██████████████████████████████████████████| 18/18 [00:00<00:00, 186.22it/s]\n",
      "100%|██████████████████████████████████████████| 18/18 [00:00<00:00, 162.07it/s]\n",
      "100%|██████████████████████████████████████████| 18/18 [00:00<00:00, 200.77it/s]\n",
      "100%|██████████████████████████████████████████| 18/18 [00:00<00:00, 198.29it/s]\n",
      "100%|██████████████████████████████████████████| 18/18 [00:00<00:00, 203.87it/s]\n",
      "100%|██████████████████████████████████████████| 18/18 [00:00<00:00, 204.29it/s]\n",
      "100%|██████████████████████████████████████████| 18/18 [00:00<00:00, 154.59it/s]\n",
      "100%|██████████████████████████████████████████| 18/18 [00:00<00:00, 187.34it/s]\n",
      "100%|██████████████████████████████████████████| 18/18 [00:00<00:00, 124.69it/s]\n",
      "100%|██████████████████████████████████████████| 18/18 [00:00<00:00, 189.56it/s]\n",
      "100%|██████████████████████████████████████████| 18/18 [00:00<00:00, 182.56it/s]\n",
      "100%|██████████████████████████████████████████| 18/18 [00:00<00:00, 193.88it/s]\n",
      "100%|██████████████████████████████████████████| 18/18 [00:00<00:00, 201.29it/s]\n",
      "100%|██████████████████████████████████████████| 18/18 [00:00<00:00, 200.63it/s]\n",
      "100%|██████████████████████████████████████████| 18/18 [00:00<00:00, 173.34it/s]\n",
      "100%|██████████████████████████████████████████| 18/18 [00:00<00:00, 163.65it/s]\n",
      "100%|██████████████████████████████████████████| 18/18 [00:00<00:00, 180.98it/s]\n",
      "100%|██████████████████████████████████████████| 18/18 [00:00<00:00, 204.08it/s]\n",
      "100%|██████████████████████████████████████████| 18/18 [00:00<00:00, 203.54it/s]\n",
      "100%|██████████████████████████████████████████| 18/18 [00:00<00:00, 237.99it/s]\n",
      "100%|██████████████████████████████████████████| 18/18 [00:00<00:00, 141.56it/s]\n",
      "100%|██████████████████████████████████████████| 18/18 [00:00<00:00, 144.58it/s]\n",
      "100%|██████████████████████████████████████████| 18/18 [00:00<00:00, 155.65it/s]\n",
      "100%|██████████████████████████████████████████| 18/18 [00:00<00:00, 151.80it/s]\n",
      "100%|██████████████████████████████████████████| 18/18 [00:00<00:00, 202.91it/s]\n",
      "100%|██████████████████████████████████████████| 18/18 [00:00<00:00, 188.09it/s]\n",
      "100%|██████████████████████████████████████████| 18/18 [00:00<00:00, 197.73it/s]\n",
      "100%|██████████████████████████████████████████| 18/18 [00:00<00:00, 175.28it/s]\n",
      "100%|██████████████████████████████████████████| 18/18 [00:00<00:00, 182.63it/s]\n",
      "100%|██████████████████████████████████████████| 18/18 [00:00<00:00, 180.08it/s]\n",
      "100%|██████████████████████████████████████████| 18/18 [00:00<00:00, 216.78it/s]\n",
      "100%|██████████████████████████████████████████| 18/18 [00:00<00:00, 172.21it/s]\n",
      "100%|██████████████████████████████████████████| 18/18 [00:00<00:00, 201.19it/s]\n",
      "100%|██████████████████████████████████████████| 18/18 [00:00<00:00, 139.88it/s]\n",
      "100%|██████████████████████████████████████████| 18/18 [00:00<00:00, 170.96it/s]\n",
      "100%|██████████████████████████████████████████| 18/18 [00:00<00:00, 144.25it/s]\n",
      "100%|██████████████████████████████████████████| 18/18 [00:00<00:00, 170.11it/s]\n",
      "100%|██████████████████████████████████████████| 18/18 [00:00<00:00, 187.91it/s]\n"
     ]
    }
   ],
   "source": [
    "# mapping terms to list of (file_name, tf-idf)\n",
    "# tf-idf = tfj * wj = tfj * log(n/nj) n = 7200\n",
    "\n",
    "mapping_tfidf = {}\n",
    "for i in range(400):\n",
    "    els = os.listdir('./tsvs/tsvs_page_{}'.format(i+1))\n",
    "\n",
    "    for name in tqdm(els):\n",
    "        with open ( './tsvs/tsvs_page_{}/{}'.format(i+1, name), 'r') as f:\n",
    "            tsv_reader = csv.reader(f, delimiter=\"\\t\")\n",
    "            for row in tsv_reader:\n",
    "                desc = row[4]\n",
    "                words = description_to_stems(desc)\n",
    "                ln = len(words)\n",
    "                \n",
    "                counter = Counter(words)\n",
    "                for word in counter:\n",
    "                    idx = vocabulary[word]\n",
    "                    freq = counter[word]/ln*weights[idx] # == tf\n",
    "                    try:\n",
    "                        mapping_tfidf[idx].append( (str(i+1)+'/'+name, freq) )\n",
    "                    except:\n",
    "                        mapping_tfidf[idx] = [ (str(i+1)+'/'+name, freq) ]"
   ]
  },
  {
   "cell_type": "code",
   "execution_count": 523,
   "id": "2ce87749",
   "metadata": {},
   "outputs": [],
   "source": [
    "# writing freq_mapping to csv\n",
    "\n",
    "with open(\"termid_document_freq.csv\", \"w\") as map_ffreq:\n",
    "    w = csv.writer(map_ffreq)\n",
    "    for key, val in mapping_tfidf.items():\n",
    "        w.writerow([key, val])"
   ]
  },
  {
   "cell_type": "code",
   "execution_count": 526,
   "id": "f42dc59d",
   "metadata": {},
   "outputs": [
    {
     "name": "stdout",
     "output_type": "stream",
     "text": [
      "american flower\n"
     ]
    }
   ],
   "source": [
    "# testing \n",
    "\n",
    "inp = str(input())\n",
    "\n",
    "matches = docs_matching_query(inp)"
   ]
  },
  {
   "cell_type": "code",
   "execution_count": 527,
   "id": "0f77a3f4",
   "metadata": {},
   "outputs": [
    {
     "data": {
      "text/plain": [
       "{'124/atocha-station-tropical-garden.tsv',\n",
       " '126/fenway-victory-gardens.tsv',\n",
       " '189/plainfield-cemetery.tsv',\n",
       " '199/medicine-rocks-state-park.tsv',\n",
       " '254/felicity-california-center-of-the-world.tsv',\n",
       " '27/bannermans-castle.tsv',\n",
       " '310/carnivorous-plants-at-the-huntington-gardens.tsv',\n",
       " '322/hare-krishna-tree.tsv',\n",
       " '353/coltsville.tsv',\n",
       " '396/cole-porter-s-piano.tsv',\n",
       " '68/harvard-museum-of-natural-history.tsv',\n",
       " '78/casina-delle-civete.tsv',\n",
       " '79/mueller-sunflowers.tsv',\n",
       " '91/dumbarton-oaks.tsv',\n",
       " '91/ethel-m-botanical-cactus-garden.tsv'}"
      ]
     },
     "execution_count": 527,
     "metadata": {},
     "output_type": "execute_result"
    }
   ],
   "source": [
    "matches"
   ]
  },
  {
   "cell_type": "code",
   "execution_count": null,
   "id": "27719ed1",
   "metadata": {},
   "outputs": [],
   "source": []
  },
  {
   "cell_type": "code",
   "execution_count": 563,
   "id": "ac350529",
   "metadata": {},
   "outputs": [],
   "source": [
    "# taking input_query, list of matching documents, int k\n",
    "# read matching document_description, count occurence of the words that are in the input_query/len(description)\n",
    "\n",
    "# since we only need the relative similarity between matches, the dimensions of the input are irrelevant\n",
    "# the cosine similarity is ~ to vector_of_words_in_match/len(vector_of_words_in_match)\n",
    "# since all dimensions but the words of the input query are orthogonal we can look only at the values in \n",
    "# that dimension and normalize by the length of the whole vector_of_words_in_match==len(description)\n",
    "\n",
    "def cos_rel_similarst(inp, matches, k):\n",
    "    for match in matches:\n",
    "        i, name = match.split('/')\n",
    "        with open ( './tsvs/tsvs_page_{}/{}'.format(int(i), name), 'r') as f:\n",
    "            tsv_reader = csv.reader(f, delimiter=\"\\t\")\n",
    "            for row in tsv_reader:\n",
    "                desc = description_to_stems(row[4])# if i ==4][0]\n",
    "                ln = len(desc)\n",
    "                counter = Counter(desc)\n",
    "                sim = sum(counter[sub_query] for sub_query in inps)/ln\n",
    "                if len(k_matches) < k:\n",
    "                    k_matches[sim] = ([row[0], row[4], row[14]])\n",
    "                else:\n",
    "                    if sim > min( list(k_matches.keys()) ):\n",
    "                        min_key = min( list(k_matches.keys()) )\n",
    "                        k_matches.pop(min_key)\n",
    "                        k_matches[sim] = ([row[0], row[4], row[14]])\n",
    "\n",
    "    df = pd.DataFrame.from_dict(k_matches, orient='index')\n",
    "    df = df.reset_index(drop=True)\n",
    "    df['Similarity'] = list (k_matches.keys() )\n",
    "\n",
    "    df.columns=['placeName', 'placeDesc', 'placeURL', 'Similarity']\n",
    "    df = df.sort_values(by='Similarity', ascending = False)\n",
    "    return df"
   ]
  },
  {
   "cell_type": "code",
   "execution_count": 564,
   "id": "71746a4a",
   "metadata": {},
   "outputs": [
    {
     "data": {
      "text/html": [
       "<div>\n",
       "<style scoped>\n",
       "    .dataframe tbody tr th:only-of-type {\n",
       "        vertical-align: middle;\n",
       "    }\n",
       "\n",
       "    .dataframe tbody tr th {\n",
       "        vertical-align: top;\n",
       "    }\n",
       "\n",
       "    .dataframe thead th {\n",
       "        text-align: right;\n",
       "    }\n",
       "</style>\n",
       "<table border=\"1\" class=\"dataframe\">\n",
       "  <thead>\n",
       "    <tr style=\"text-align: right;\">\n",
       "      <th></th>\n",
       "      <th>placeName</th>\n",
       "      <th>placeDesc</th>\n",
       "      <th>placeURL</th>\n",
       "      <th>Similarity</th>\n",
       "    </tr>\n",
       "  </thead>\n",
       "  <tbody>\n",
       "    <tr>\n",
       "      <th>1</th>\n",
       "      <td>Atocha Station Tropical Garden</td>\n",
       "      <td>The winding paths and many benches within this...</td>\n",
       "      <td>https://www.atlasobscura.com/places/atocha-sta...</td>\n",
       "      <td>0.024631</td>\n",
       "    </tr>\n",
       "    <tr>\n",
       "      <th>0</th>\n",
       "      <td>Fenway Victory Gardens</td>\n",
       "      <td>While World War II battles raged overseas, bac...</td>\n",
       "      <td>https://www.atlasobscura.com/places/fenway-vic...</td>\n",
       "      <td>0.019608</td>\n",
       "    </tr>\n",
       "    <tr>\n",
       "      <th>2</th>\n",
       "      <td>Mueller SunFlowers</td>\n",
       "      <td>On a certain stretch of I-35 near Austin, Texa...</td>\n",
       "      <td>https://www.atlasobscura.com/places/mueller-su...</td>\n",
       "      <td>0.018987</td>\n",
       "    </tr>\n",
       "  </tbody>\n",
       "</table>\n",
       "</div>"
      ],
      "text/plain": [
       "                        placeName  \\\n",
       "1  Atocha Station Tropical Garden   \n",
       "0          Fenway Victory Gardens   \n",
       "2              Mueller SunFlowers   \n",
       "\n",
       "                                           placeDesc  \\\n",
       "1  The winding paths and many benches within this...   \n",
       "0  While World War II battles raged overseas, bac...   \n",
       "2  On a certain stretch of I-35 near Austin, Texa...   \n",
       "\n",
       "                                            placeURL  Similarity  \n",
       "1  https://www.atlasobscura.com/places/atocha-sta...    0.024631  \n",
       "0  https://www.atlasobscura.com/places/fenway-vic...    0.019608  \n",
       "2  https://www.atlasobscura.com/places/mueller-su...    0.018987  "
      ]
     },
     "execution_count": 564,
     "metadata": {},
     "output_type": "execute_result"
    }
   ],
   "source": [
    "cos_rel_similarst(inp, matches, 3)"
   ]
  },
  {
   "cell_type": "raw",
   "id": "c73b940d-bb68-47a7-bf4e-3cc025a181de",
   "metadata": {},
   "source": []
  },
  {
   "cell_type": "code",
   "execution_count": null,
   "id": "b78f1e00",
   "metadata": {},
   "outputs": [],
   "source": []
  },
  {
   "cell_type": "markdown",
   "id": "06875fbc-000f-4868-99fb-923017712b35",
   "metadata": {},
   "source": [
    "# 7. Theoretical Question"
   ]
  },
  {
   "cell_type": "markdown",
   "id": "ebf6774d-8067-4909-80fe-1eba15b94f23",
   "metadata": {
    "tags": []
   },
   "source": [
    "### **Introduction**"
   ]
  },
  {
   "cell_type": "markdown",
   "id": "943fc129-0e04-43a2-a5a8-bb3cb3f96845",
   "metadata": {
    "tags": []
   },
   "source": [
    "#### The question asked to implement three algorithms to solve the following problem:\n",
    "\n",
    "> *\"Given n students and their m grades, rank the students in order of highest average grade and, in case of parity, rank them in alphabetical order.\"*"
   ]
  },
  {
   "cell_type": "markdown",
   "id": "cb1629c5-e190-44a7-8517-0b4e7139be65",
   "metadata": {
    "tags": []
   },
   "source": [
    "### 1. The 3 Algorithms"
   ]
  },
  {
   "cell_type": "code",
   "execution_count": 3,
   "id": "f1cdec36-05c5-4500-8647-a7b462042145",
   "metadata": {
    "tags": []
   },
   "outputs": [],
   "source": [
    "# Input sets with which to test the algorithms\n",
    "file1 = 'Ex1_Applicants.txt' # first given input\n",
    "file2 = 'Ex2_Applicants.txt' # second given input\n",
    "file3 = 'Ex3_Applicants.txt' # a third input consctructed by the first adding the case that two student have the same grade\n",
    "file = 'ApplicantsInfo.txt'"
   ]
  },
  {
   "cell_type": "markdown",
   "id": "a84e0776-abde-4f0f-8e98-0f57d6d27164",
   "metadata": {
    "tags": []
   },
   "source": [
    "#### **a. The first algorithm: a Naive Approach**"
   ]
  },
  {
   "cell_type": "markdown",
   "id": "71ac85da-649b-4adb-b298-452f98ab8539",
   "metadata": {},
   "source": [
    "##### This is the first algorithm that came to our mind. The algorithm performs the following operations:\n",
    "1. open the input file and parse information accross its lines\n",
    "2. compute the average grade for each student and build a list associating names with average grades\n",
    "3. sort, in the desired order, the list\n",
    "4. create a new txt file containing the ranking of the students"
   ]
  },
  {
   "cell_type": "markdown",
   "id": "48d18390-eae2-4ea0-a091-50cb8b717550",
   "metadata": {},
   "source": [
    "##### First, we define the function `bubbleSort` that sorts, in a very natural and easy way, the elements of an array by repeatedly swapping adjacent elements that are out of order.\n",
    "##### In our version of bubblesort, we order a lists of name-grade pairs by bubbling out pairs with the smallest grades (and once again, in case of parity, the alphabetic order is preserved)."
   ]
  },
  {
   "cell_type": "markdown",
   "id": "dc4365be-295d-418e-a827-d291ad8460b6",
   "metadata": {},
   "source": [
    "##### Secondly, we write the `Naive` algorithm that opens up the input txt file, extracts information from that file (i.e. grades, number of grades and students), builds a list of name-grade pairs, leverages the `bubbleSort` algorithm, and writes a txt file containing the students' ranking. "
   ]
  },
  {
   "cell_type": "code",
   "execution_count": 1,
   "id": "22e9e4ae-142f-4bed-93c5-1dd0fdb31d9f",
   "metadata": {
    "tags": []
   },
   "outputs": [],
   "source": [
    "def bubbleSort(items):\n",
    "    for i in range (0,len(items)): # loop through the list\n",
    "        for j in range(0, len(items)-i-1): # an inner loop is used to compare the element of the outer loop with the other elements of the list\n",
    "            if items[j][1] < items[j + 1][1]: # if any element is greater than the element of the outer loop, swap the values...\n",
    "                items[j], items[j + 1] = items[j + 1], items[j]\n",
    "            elif items[j][1] == items[j + 1][1]: # if the average grade is equal...\n",
    "                if items[j][0] > items[j + 1][0]: # ,following alphabetical order, \n",
    "                    items[j], items[j + 1] = items[j + 1], items[j] # swap the pairs\n",
    "            else:\n",
    "                pass\n",
    "    return items\n",
    "\n",
    "\n",
    "def Naive(file):\n",
    "    \n",
    "    items =[] # initialize a list that will store lists of name-gpa pairs\n",
    "\n",
    "    ''' open up the txt file '''\n",
    "    with open(file) as f:\n",
    "        \n",
    "        ''' parse the txt file '''\n",
    "        lines = f.readlines()[0:1] # parse first line\n",
    "        for line in lines:\n",
    "            line = line.strip().split() # creates a list of strings contained in each line\n",
    "            n = int(line[0]) # extract n of students\n",
    "            m = int(line[1]) # extract n of grades for each student\n",
    "            \n",
    "        f.seek(0) # reset the file pointer\n",
    "        \n",
    "        lines = f.readlines()[1:] #parse from the second line to end\n",
    "        for line in lines: \n",
    "            line = line.strip().split() # a list of all the characters of a particular line\n",
    "            grades = list(map(int,line[2:])) #list of grades of a paricular student\n",
    "            name = ' '.join([line[0],line[1]])  # join first and last name of a particuar student in a string\n",
    "            ''' compute the average grade of a particular student '''\n",
    "            summ = 0 # initialize the sum\n",
    "            for grade in grades:\n",
    "                summ += grade #increase the sum by grade\n",
    "            gpa = round(summ/m,2) # compute the average and round it to the 2nd decimal point\n",
    "            item = [name,gpa] # associate the average grade to each name\n",
    "            items.append(item) # append each pair to the list\n",
    "    bubbleSort(items) # leverage bubblesort()\n",
    "    f.close() # close file\n",
    "\n",
    "                    \n",
    "    ''' write a txt file called 'RankingList.txt', containing the rank of the sudents'''\n",
    "    with open('RankingList.txt', 'w') as f:\n",
    "        for ele in items: # loop through d_items\n",
    "            # write each item on a new line\n",
    "            f.write(str(ele[0])+ ' ' + str(ele[1])) # write a line containing the name and average grade of a particular student\n",
    "            f.write('\\n') # close file\n",
    "    f.close() # close file\n",
    "    return\n"
   ]
  },
  {
   "cell_type": "code",
   "execution_count": 5,
   "id": "6de2a7c5-048f-41a8-9d17-7c874a1c32a9",
   "metadata": {},
   "outputs": [],
   "source": [
    "Naive(file1)"
   ]
  },
  {
   "cell_type": "markdown",
   "id": "ccff9552-b2f3-47bc-a825-c49ab2bc58de",
   "metadata": {},
   "source": [
    "##### We tested the algorithm thus built on the input files and we found that it does its job. So, it is likely correct but it may be very inneficient.\n",
    "##### Indeed the algorithm takes too much time when `ApplicantsInfo.txt` is passed as argument."
   ]
  },
  {
   "cell_type": "markdown",
   "id": "c6f04c0a-0cb3-4517-8b58-93d48723cf2b",
   "metadata": {},
   "source": [
    "#### **b. The second Algorithm:**"
   ]
  },
  {
   "cell_type": "markdown",
   "id": "f7bef74d-d659-4807-a2fb-e5201f9b29a6",
   "metadata": {},
   "source": [
    "\n",
    "##### The first algorithm, though correct, is not capable to go through all the information contained in 'ApplicantsInfo.txt'. For this reason we have to come out with an algorithm more efficient than that above.\n",
    "##### A good starting point is to analyze the inefficiencies of the 'Naive' algorithm, and fix them. We noticed that the sorting algorithm used by `Naive` is not the most efficient one. \n",
    "##### Thus, we can address this issue by building another sorting algorting that works better than `bubblesort`. The second algorithm, called `MS_version`, leverages on a *merge sort* type of algorithm."
   ]
  },
  {
   "cell_type": "markdown",
   "id": "a2502dac-d45b-401d-a10d-f1f6f2560afc",
   "metadata": {},
   "source": [
    "##### From theory, we know that merge sort:\n",
    "1. divides the problem of sorting into smaller subproblems of the same instance of the main problem,\n",
    "2. solves these subproblems recursively (or if their sizes are small enough it solves the subproblems in a straightforward manner),\n",
    "3. combines the solutions to the subproblems into the solution for the original problem"
   ]
  },
  {
   "cell_type": "markdown",
   "id": "b2c13e30-05f1-4c91-8965-a71102cdf658",
   "metadata": {},
   "source": [
    "##### We can then use the `mergeSort` procedure in our new algorithm."
   ]
  },
  {
   "cell_type": "code",
   "execution_count": 213,
   "id": "c7bbe41d-8d31-4c5c-8178-dfb6f1dcaf86",
   "metadata": {
    "tags": []
   },
   "outputs": [],
   "source": [
    "def mergeSort(items):\n",
    "    if len(items) > 1: # compute the length of the list\n",
    "        mid = len(items)//2 # find the median of the array\n",
    "        L = items[:mid] # put the left part of the items in a list\n",
    "        R = items[mid:] # put the right part in another one\n",
    "        mergeSort(L) # recall 'mergeSort' on the left part\n",
    "        mergeSort(R) # recall 'mergeSort' on the right part\n",
    "        left_count = right_count = k = 0 # initialize 3 variable\n",
    "        # Copy data to temp arrays L[] and R[]\n",
    "        while left_count < len(L) and right_count < len(R): # while loop to iterate from i to min(len(L),len(R))\n",
    "            if L[left_count][1] > R[right_count][1]: # order by descending gpa\n",
    "                items[k] = L[left_count] \n",
    "                left_count += 1 # increment left_count\n",
    "            elif L[left_count][1] == R[right_count][1]: # if two student have the same grade\n",
    "                if L[left_count][0] < R[right_count][0]: #...follow alphabetical order\n",
    "                    items[k] = L[left_count]\n",
    "                    left_count += 1 # increment left_count\n",
    "                else:\n",
    "                    items[k] = R[right_count]\n",
    "                    right_count += 1 # increment right_count\n",
    "            else:\n",
    "                items[k] = R[right_count]\n",
    "                right_count += 1 # increment right_count\n",
    "            k += 1\n",
    "        while left_count < len(L): # Checking if any element was left over\n",
    "            items[k] = L[left_count] # if so, assign element to the remaining positions on the list\n",
    "            left_count += 1\n",
    "            k += 1\n",
    "        while right_count < len(R): # Checking if any element was left over\n",
    "            items[k] = R[right_count] # if so, assign element to the remaining positions on the list\n",
    "            right_count += 1\n",
    "            k += 1\n",
    "    return (items)\n",
    "\n",
    "\n",
    "def MS_version(file):\n",
    "    \n",
    "    items =[] # initialize a list that will store lists of name-gpa pairs\n",
    "    with open(file) as f:\n",
    "        ''' parse the txt file '''\n",
    "        \n",
    "        lines = f.readlines()[0:1] # parse first line\n",
    "        for line in lines:\n",
    "            line = line.strip().split() \n",
    "            n = int(line[0]) # extract n of students\n",
    "            m = int(line[1]) # extract n of grades for each student\n",
    "            \n",
    "        f.seek(0) # reset the file pointer    \n",
    "        \n",
    "        lines = f.readlines()[1:] #parse from the second line to end\n",
    "        for line in lines:\n",
    "            line = line.strip().split() # a list of all the character of a particular line\n",
    "            grades = list(map(int,line[2:])) #list of grades of a paricular student\n",
    "            name = ' '.join([line[0],line[1]])  # join first and last name of a particuar student in a string\n",
    "            ''' compute the average grade of a particular student '''\n",
    "            summ = 0 # initialize the sum\n",
    "            for grade in grades:\n",
    "                summ += grade #increase the sum by grade\n",
    "            gpa = round(summ/m,2) # compute the average and round it to the 2nd decimal point\n",
    "            item = [name,gpa] # associate the average grade to each name\n",
    "            items.append(item)\n",
    "    items = mergeSort(items)\n",
    "    f.close()\n",
    "    ''' write a txt file called 'RankingList.txt', containing the rank of the sudents'''\n",
    "    with open('RankingList.txt', 'w') as f:\n",
    "        for ele in items: # loop through d_items\n",
    "            # write each item on a new line\n",
    "            f.write(str(ele[0])+ ' ' + str(ele[1])) # write a line containing the name and average grade of a particular student\n",
    "            f.write('\\n')\n",
    "    f.close()\n",
    "    return        "
   ]
  },
  {
   "cell_type": "markdown",
   "id": "f1b43fff-9ab5-4c7a-a165-86646b6011e4",
   "metadata": {
    "tags": []
   },
   "source": [
    "#### **c. The third Algorithm:**"
   ]
  },
  {
   "cell_type": "markdown",
   "id": "b1311c55-0ae9-454d-a79e-e56c3713d474",
   "metadata": {},
   "source": [
    "##### With the `MS_version` we are able to process `ApplicationsInfo.txt`.\n",
    "##### From theory, we know that merge sort is a reliable sorting method that performs particularly well with big data. However, the main drawback of merge sort is that it uses a lot of memory before merging the elements.\n",
    "##### So, we intend to propose an alternative agorithm called `QS_version` that leverages upon a quick sort algorithm."
   ]
  },
  {
   "cell_type": "markdown",
   "id": "e8e60a0e-ae74-4cec-b2a8-2c2c0bc39e7a",
   "metadata": {},
   "source": [
    "##### According to the theory, A quick sort algorithm works by selecting a 'pivot' element from the array and partitioning the other elements into two sub-arrays, according to whether they are less than or greater than the pivot. We can split this algorithm in three steps:\n",
    "1. reorder its elements, while determining a point of division, so that all elements with values less than the pivot come before the division, while all elements with values greater than the pivot come after it; elements that are equal to the pivot can go either way. Since at least one instance of the pivot is present, most partition routines ensure that the value that ends up at the point of division is equal to the pivot, and is now in its final position (but termination of quicksort does not depend on this, as long as sub-ranges strictly smaller than the original are produced).\n",
    "2. Recursively apply the quicksort to the sub-range up to the point of division and to the sub-range after it, possibly excluding from both ranges the element equal to the pivot at the point of division. (If the partition produces a possibly larger sub-range near the boundary where all elements are known to be equal to the pivot, these can be excluded as well.)\n"
   ]
  },
  {
   "cell_type": "code",
   "execution_count": 214,
   "id": "095fdf1f-3680-46f2-bf13-1837fc0bc74c",
   "metadata": {},
   "outputs": [],
   "source": [
    "def partition(items, low, high):\n",
    "    ''' '''\n",
    "  \n",
    "    #Choose the rightmost element...\n",
    "    pivot1 = items[high][1] # ...for grades\n",
    "    pivot2 = items[high][0] # and for names\n",
    "    \n",
    "    i = low - 1 # Pointer\n",
    "    for j in range(low, high): # Loop through all elements and compare each element with pivot\n",
    "        if items[j][1] > pivot1: # If the grade is greater than pivot1...\n",
    "            i = i + 1 # after increasing the pointer\n",
    "            (items[i], items[j]) = (items[j], items[i]) # ...swap the element at i with element at j\n",
    "        elif items[j][1] == pivot1: # If grade equals pivot1\n",
    "            if items[j][0] < pivot2: # and name smaller than pivot2...\n",
    "                i = i + 1 # after increasing the pointer\n",
    "                (items[i], items[j]) = (items[j], items[i]) # ...swap the element at i with element at j\n",
    "\n",
    "    # Swap the pivot element with the greater element specified by i\n",
    "    (items[i + 1], items[high]) = (items[high], items[i + 1])\n",
    "  \n",
    "    # Return the position from where partition is done\n",
    "    return i + 1\n",
    "  \n",
    "# Function to perform quicksort\n",
    "  \n",
    "def quickSort(items, low, high):\n",
    "    if low < high:\n",
    "\n",
    "        pi = partition(items, low, high)\n",
    "  \n",
    "        quickSort(items, low, pi - 1)  # Recursive call on the left of pivot\n",
    "\n",
    "        quickSort(items, pi + 1, high) # Recursive call on the right of pivot\n",
    "        \n",
    "    return (items)\n",
    "\n",
    "\n",
    "def QS_version(file):\n",
    "    \n",
    "    items = [] # initialize a list that will store lists of name-gpa pairs\n",
    "\n",
    "    ''' open up the txt file '''\n",
    "    with open(file) as f:\n",
    "        \n",
    "        ''' parse the txt file '''\n",
    "        lines = f.readlines()[0:1] # parse first line\n",
    "        for line in lines:\n",
    "            line = line.strip().split() \n",
    "            n = int(line[0]) # extract n of students\n",
    "            m = int(line[1]) # extract n of grades for each student\n",
    "            \n",
    "        f.seek(0) # reset the file pointer    \n",
    "        \n",
    "        lines = f.readlines()[1:] #parse from the second line to end\n",
    "        for line in lines:\n",
    "            line = line.strip().split() # a list of all the character of a particular line\n",
    "            grades = list(map(int,line[2:])) #list of grades of a paricular student\n",
    "            name = ' '.join([line[0],line[1]])  # join first and last name of a particuar student in a string\n",
    "            ''' compute the average grade of a particular student '''\n",
    "            summ = 0 # initialize the sum\n",
    "            for grade in grades:\n",
    "                summ += grade #increase the sum by grade\n",
    "            gpa = round(summ/m,2) # compute the average and round it to the 2nd decimal point\n",
    "            item = [name,gpa] # associate the average grade to each name\n",
    "            items.append(item)\n",
    "    items = quickSort(items,0, n-1)\n",
    "    f.close()\n",
    "    ''' write a txt file called 'RankingList.txt', containing the rank of the sudents'''\n",
    "    with open('RankingList.txt', 'w') as f:\n",
    "        for ele in items: # loop through d_items\n",
    "            # write each item on a new line\n",
    "            f.write(str(ele[0])+ ' ' + str(ele[1])) # write a line containing the name and average grade of a particular student\n",
    "            f.write('\\n')\n",
    "    f.close()\n",
    "    return    "
   ]
  },
  {
   "cell_type": "markdown",
   "id": "708bcf8c-4841-4c96-af9c-d88fb1ef22a9",
   "metadata": {},
   "source": [
    "### 2. The time complexities of 'Naive', 'MS_version', and 'QS_version'."
   ]
  },
  {
   "cell_type": "markdown",
   "id": "4ca2e0a4-cf2b-4295-92cd-a01e60004e92",
   "metadata": {},
   "source": [
    "##### The time complexity of each algorithm is given by the time complexity of the sorting algorithm plus the time complexity of the remaining lines of the algorithm. Since we already know, from theory, the complexity of the sorting algorithms, our job is limited to find the runtime of the other lines of code. "
   ]
  },
  {
   "cell_type": "markdown",
   "id": "813829af-ec13-4609-b41c-48bc6d596a85",
   "metadata": {},
   "source": [
    "#### Naive"
   ]
  },
  {
   "cell_type": "markdown",
   "id": "e218b264-d3e0-4d12-a5af-fc5c3be076e3",
   "metadata": {},
   "source": [
    "##### Let be `n` the number of students and `m` the number of grades.\n",
    "##### We know that bubble sort has a time complexity of $O(n^2)$. `BubbleSort` is in fact used to sort a list by passing through it $n*n$ times, where n is the size of the list.\n",
    "##### Now, let's deep into the remaining chunks of code. Werember that the algorithm:\n",
    "* reads the input file by performing:\n",
    "    1. an outer loop of `n` iterations \n",
    "    2. an inner loop of `m` iterations\n",
    "* writes the output file by performing:\n",
    "    3. a single loop of `n` iterations\n",
    "    \n",
    "Thus, the complexity of the code excluding the sorting algorithm is $O(n*m) + O(n) -> O(n*m)$\n",
    "##### Putting everything together, we derive that the total complexity is $O(n*m)+ O(n^2) -> O(n^2)$"
   ]
  },
  {
   "cell_type": "markdown",
   "id": "17843f80-b1da-447c-bdb7-139a2986779c",
   "metadata": {},
   "source": [
    "#### MS_version"
   ]
  },
  {
   "cell_type": "markdown",
   "id": "ac062777-750c-4096-a73c-e5f4a977b33e",
   "metadata": {},
   "source": [
    "##### The complexity of merge sort is $O(n*log n)$. \n",
    "##### The complexity of the code excluding the sorting algorithm is $O(n*m)$\n",
    "##### Thus, the total complexity is $O(n*m) + O(n*log n) -> O(n*logn)$"
   ]
  },
  {
   "cell_type": "markdown",
   "id": "60698d35-5636-49f3-a1c3-d31bc880e63f",
   "metadata": {},
   "source": [
    "#### QS_version"
   ]
  },
  {
   "cell_type": "markdown",
   "id": "18706bd7-c750-4d34-952c-8fffbaa4ff85",
   "metadata": {},
   "source": [
    "##### We know that the complexity of quick sort is $O(n^2)$. This is surely true even though we must say that the expected running time of this algorithm is in the order of $O(n*logn)$. \n",
    "##### Anyhow, the total complexity is $O(n*m) + O(n^2)-> O(n^2)$"
   ]
  },
  {
   "cell_type": "markdown",
   "id": "9b315950-b661-4172-936e-7a8a92854bb0",
   "metadata": {},
   "source": [
    "### 3. Evaluate the running time "
   ]
  },
  {
   "cell_type": "markdown",
   "id": "df2b19de-41b6-4846-a7a8-f0feb386eae9",
   "metadata": {},
   "source": [
    "##### We are interested in comparing the runtime of these three algorithms. One way to do it is to define a function`getime` that computes how long it takes for a given algorithm to process the input file."
   ]
  },
  {
   "cell_type": "code",
   "execution_count": 215,
   "id": "237c17f2-efcf-4208-8b90-34d9e41f01db",
   "metadata": {
    "tags": []
   },
   "outputs": [],
   "source": [
    "#evaluate runtime\n",
    "def getime(algo,file):\n",
    "    import time\n",
    "    st = time.time() \n",
    "    algo(file)\n",
    "    et = time.time()\n",
    "    return (round(et-st,3))"
   ]
  },
  {
   "cell_type": "code",
   "execution_count": 216,
   "id": "267807e1-7bb2-40a5-96a9-b86ac42479cf",
   "metadata": {
    "tags": []
   },
   "outputs": [],
   "source": [
    "MS = getime(MS_version,file) # time of MS_version"
   ]
  },
  {
   "cell_type": "code",
   "execution_count": 217,
   "id": "73414d0e-3434-4083-b56a-f6e988fe7aa3",
   "metadata": {},
   "outputs": [
    {
     "data": {
      "text/plain": [
       "17.738"
      ]
     },
     "execution_count": 217,
     "metadata": {},
     "output_type": "execute_result"
    }
   ],
   "source": [
    "MS"
   ]
  },
  {
   "cell_type": "code",
   "execution_count": 358,
   "id": "c9783c8a-84e0-4c14-86ab-c4affa0d8562",
   "metadata": {},
   "outputs": [],
   "source": [
    "QS = getime(QS_version,file) # time of QS_version"
   ]
  },
  {
   "cell_type": "code",
   "execution_count": 359,
   "id": "3c26c726-919d-4fac-a971-febdd9d98c50",
   "metadata": {},
   "outputs": [
    {
     "data": {
      "text/plain": [
       "17.567"
      ]
     },
     "execution_count": 359,
     "metadata": {},
     "output_type": "execute_result"
    }
   ],
   "source": [
    "QS"
   ]
  },
  {
   "cell_type": "code",
   "execution_count": 105,
   "id": "690d0eef-36f2-46fa-ba3f-9fe3e7786f9c",
   "metadata": {
    "tags": []
   },
   "outputs": [],
   "source": [
    "N = getime(Naive,file) # time of Naive"
   ]
  },
  {
   "cell_type": "markdown",
   "id": "9cfcdd09-7c00-4cce-8a96-2504e92abb86",
   "metadata": {},
   "source": [
    "##### Now, we can plot the results."
   ]
  },
  {
   "cell_type": "code",
   "execution_count": 111,
   "id": "e38ef798-32f6-40ab-b927-88ed687514c8",
   "metadata": {
    "tags": []
   },
   "outputs": [
    {
     "data": {
      "image/png": "[encoded data removed]",
      "text/plain": [
       "<Figure size 432x288 with 1 Axes>"
      ]
     },
     "metadata": {
      "needs_background": "light"
     },
     "output_type": "display_data"
    }
   ],
   "source": [
    "import matplotlib.pyplot as plt\n",
    "x = ['MS_version', 'QS_version', 'Naive']\n",
    "y = [MS, QS, N]\n",
    "plt.title('Runtime comparison of the three algorithms')\n",
    "plt.xlabel('Algorithm')\n",
    "plt.ylabel('Time (in seconds)')\n",
    "plt.stem(x, y, use_line_collection=True)\n",
    "plt.show()"
   ]
  },
  {
   "cell_type": "markdown",
   "id": "a26b4a62-6dc7-4828-9246-d7c355a3e0cc",
   "metadata": {},
   "source": [
    "##### From the graph above, it emerges that `Naive` is the absolute loser while `MS_version` and `QS_version` are two candidates. In order to choose between the two we need to get deep into analysing these two algorithms. "
   ]
  },
  {
   "cell_type": "markdown",
   "id": "5d572e7f-3cf1-499a-a115-99401c91470d",
   "metadata": {},
   "source": [
    "##### From the second point of RQ7, we know that the complexity of `QS_version` is expected to be in the order of that of `MS_version`. So this time we prevent from using the `getime` function.\n",
    "##### That is because `getime` outuputs a result that fluctuates, and so we cannot simply rely on that result.\n",
    "##### Thus, in order to be more certain of which algorithm is faster we use the `%timeit` magic function with `32` repetitions. This way, we smooth some a of the variability inherent in the previous results.\n",
    "\n"
   ]
  },
  {
   "cell_type": "code",
   "execution_count": 375,
   "id": "512ec461-4349-41f2-a73f-b63ebae6b421",
   "metadata": {},
   "outputs": [
    {
     "name": "stdout",
     "output_type": "stream",
     "text": [
      "13.4 s ± 656 ms per loop (mean ± std. dev. of 32 runs, 1 loop each)\n"
     ]
    }
   ],
   "source": [
    "%timeit -r 32 MS_version(file) # runtime for MS"
   ]
  },
  {
   "cell_type": "code",
   "execution_count": 374,
   "id": "b6bf3029-0dbd-4c9c-83f3-18c756a9f782",
   "metadata": {},
   "outputs": [
    {
     "name": "stdout",
     "output_type": "stream",
     "text": [
      "13.1 s ± 752 ms per loop (mean ± std. dev. of 32 runs, 1 loop each)\n"
     ]
    }
   ],
   "source": [
    "%timeit -r 32 QS_version(file) # runtime for QS"
   ]
  },
  {
   "cell_type": "markdown",
   "id": "f55058d5-fa2b-4a10-8dcc-c7187b32db74",
   "metadata": {},
   "source": [
    "##### Then, we plot the results."
   ]
  },
  {
   "cell_type": "code",
   "execution_count": 389,
   "id": "bd848a23-f93d-4c5f-99aa-c1e2b6b2514d",
   "metadata": {
    "tags": []
   },
   "outputs": [
    {
     "data": {
      "image/png": "[encoded data removed]",
      "text/plain": [
       "<Figure size 640x480 with 1 Axes>"
      ]
     },
     "metadata": {},
     "output_type": "display_data"
    }
   ],
   "source": [
    "import matplotlib.pyplot as plt\n",
    "import numpy as np\n",
    "\n",
    "plt.rcdefaults()\n",
    "fig, ax = plt.subplots()\n",
    "\n",
    "# Example data\n",
    "algorithms = ('MS_version', 'QS_version')\n",
    "y_pos = np.arange(len(algorithms))\n",
    "x = np.array([13.4,13.1])\n",
    "error = np.array([0.656,0.752])\n",
    "\n",
    "ax.barh(y_pos, x, xerr=error, align='center')\n",
    "ax.set_yticks(y_pos, labels=algorithms)\n",
    "ax.invert_yaxis()  # labels read top-to-bottom\n",
    "ax.set_xlabel('Average Time (in seconds) of 32 iterations')\n",
    "ax.set_title('Which does it take shorter time between MS and QS?')\n",
    "\n",
    "plt.show()"
   ]
  },
  {
   "cell_type": "markdown",
   "id": "308bc52e-0d8a-4319-bffb-086e35268fbb",
   "metadata": {},
   "source": [
    "##### Answer: There is no clear winner. However, since, as we previously said, `quicksort` sorts a list of items *in place* (to wit, with no need of additional storage space) we tend to prefer `QS_version` over `MS_version`"
   ]
  },
  {
   "cell_type": "markdown",
   "id": "5bc4a685-f948-436d-b7f0-4c54378029b1",
   "metadata": {},
   "source": [
    "### 5. The MapReduce Algorithm"
   ]
  },
  {
   "cell_type": "code",
   "execution_count": null,
   "id": "bc76b72b-790d-494b-9c93-a8d10141a03a",
   "metadata": {},
   "outputs": [],
   "source": [
    "#### Map each input line to\n",
    "#### Reduce each grade with the sum of all the 1's\n",
    "#### We need a map function and reduce function.\n",
    "#### The map function takes a block of data as argument\n",
    "#### and produce key-value pairs as outputs.\n",
    "#### The Reducer takes the output of the Mapper as argument\n",
    "#### and aggregates those intermediate data  \n",
    "#### into a smaller set of key-value pairs \n",
    "#### which is the final output."
   ]
  },
  {
   "cell_type": "markdown",
   "id": "200de961-6b2e-429b-bc6c-c7a9ef85d156",
   "metadata": {},
   "source": [
    "##### MapReduce algorithm consists of two very important tasks:\n",
    "* `Map`\n",
    "* `Reduce`\n",
    "##### Mapper class functions with taking the input, tokenizing it, mapping it, and finally sorting it. Then, the output of the Mapper class is transferred as an input to Reducer class, where the searching of matching pairs is done, followed by reducing.\n",
    "\n",
    "The sorting algorithm is implemented by MapReduce to sort the output key-value pairs from the mapper with respect to their keys.\n",
    "Sorting methods are applied within the mapper class.\n",
    "In the Shuffle and Sort phase, after tokenizing the values in the mapper class, the user-defined(Context) class gets the matching valued keys as a collection.\n",
    "The RawComparator class helps the Mapper class to collect similar key-value pairs (intermediate keys),and sort them.\n",
    "Before the final values are produced to the Reducer, the set of intermediate key-value pairs for a given Reducer is automatically sorted by Hadoop to form key-values (K2, {V2, V2, …}).\n",
    "\n"
   ]
  },
  {
   "cell_type": "code",
   "execution_count": 342,
   "id": "c2cc6720-4178-4af0-9024-a2002abea0c5",
   "metadata": {},
   "outputs": [],
   "source": [
    "def mapper(items):\n",
    "    map_dict = {}\n",
    "    for item in items:\n",
    "        if item[1] not in list(map_dict.keys()):\n",
    "            map_dict.setdefault(item[1], [])\n",
    "            map_dict[item[1]].append(item[0]) \n",
    "        else:\n",
    "            map_dict[item[1]].append(item[0])\n",
    "        \n",
    "    return map_dict\n",
    "\n",
    "\n",
    "def shuffler(map_dict):\n",
    "    from sortedcontainers import SortedDict\n",
    "    shuff_dict = SortedDict(map_dict)\n",
    "    return shuff_dict\n",
    "\n",
    "def reducer (shuff_dict):\n",
    "    reduc_dict = {value: key for key in shuff_dict for value in shuff_dict[key]}\n",
    "    return reduc_dict\n",
    "\n",
    "\n",
    "def mapReduce_sort(items):\n",
    "    map_dict = mapper(items)\n",
    "    shuff_dict = shuffler (map_dict)\n",
    "    reduc_dict = reducer (shuff_dict)\n",
    "    return reduc_dict\n",
    "        \n",
    "\n",
    "def mapReduce(file):\n",
    "    \n",
    "    items = [] # initialize a list that will store lists of name-gpa pairs\n",
    "\n",
    "    ''' open up the txt file '''\n",
    "    with open(file) as f:\n",
    "        \n",
    "        ''' parse the txt file '''\n",
    "        lines = f.readlines()[0:1] # parse first line\n",
    "        for line in lines:\n",
    "            line = line.strip().split() \n",
    "            n = int(line[0]) # extract n of students\n",
    "            m = int(line[1]) # extract n of grades for each student\n",
    "            \n",
    "        f.seek(0) # reset the file pointer    \n",
    "        \n",
    "        lines = f.readlines()[1:] #parse from the second line to end\n",
    "        for line in lines:\n",
    "            line = line.strip().split() # a list of all the character of a particular line\n",
    "            grades = list(map(int,line[2:])) #list of grades of a paricular student\n",
    "            name = ' '.join([line[0],line[1]])  # join first and last name of a particuar student in a string\n",
    "            ''' compute the average grade of a particular student '''\n",
    "            summ = 0 # initialize the sum\n",
    "            for grade in grades:\n",
    "                summ += grade #increase the sum by grade\n",
    "            gpa = round(summ/m,2) # compute the average and round it to the 2nd decimal point\n",
    "            item = [name,gpa] # associate the average grade to each name\n",
    "            items.append(item)\n",
    "    items = mapReduce_sort(items)\n",
    "    f.close()\n",
    "    ''' write a txt file called 'RankingList.txt', containing the rank of the sudents'''\n",
    "    with open('RankingList.txt', 'w') as f:\n",
    "        items = list(items.items())\n",
    "        for i in range(len(items)-1,-1,-1): # loop through d_items\n",
    "            # write each item on a new line\n",
    "            f.write(str(items[i][0])+ ' ' + str(items[i][1])) # write a line containing the name and average grade of a particular student\n",
    "            f.write('\\n')\n",
    "    f.close()\n",
    "    return \n",
    "\n",
    "    "
   ]
  },
  {
   "cell_type": "code",
   "execution_count": 376,
   "id": "a28a3b5f-00b1-48bf-9201-8547f2de9409",
   "metadata": {},
   "outputs": [
    {
     "name": "stdout",
     "output_type": "stream",
     "text": [
      "12.8 s ± 527 ms per loop (mean ± std. dev. of 32 runs, 1 loop each)\n"
     ]
    }
   ],
   "source": [
    "%timeit -r 32 mapReduce(file)"
   ]
  },
  {
   "cell_type": "code",
   "execution_count": 388,
   "id": "d3455413-079a-4cf9-bdc8-2c730b5bc437",
   "metadata": {},
   "outputs": [
    {
     "data": {
      "image/png": "[encoded data removed]",
      "text/plain": [
       "<Figure size 640x480 with 1 Axes>"
      ]
     },
     "metadata": {},
     "output_type": "display_data"
    }
   ],
   "source": [
    "import matplotlib.pyplot as plt\n",
    "import numpy as np\n",
    "\n",
    "plt.rcdefaults()\n",
    "fig, ax = plt.subplots()\n",
    "\n",
    "# Example data\n",
    "algorithms = ('MS_version', 'QS_version','mapReduce')\n",
    "y_pos = np.arange(len(algorithms))\n",
    "x = np.array([13.4,13.1,12.8])\n",
    "error = np.array([0.656,0.752,0.527])\n",
    "\n",
    "ax.barh(y_pos, x, xerr=error, align='center')\n",
    "ax.set_yticks(y_pos, labels=algorithms)\n",
    "ax.invert_yaxis()  # labels read top-to-bottom\n",
    "ax.set_xlabel('Average Time (in seconds) of 32 iterations')\n",
    "ax.set_title('Which does it take shorter time among MS, QS, and mR?')\n",
    "\n",
    "plt.show()"
   ]
  },
  {
   "cell_type": "markdown",
   "id": "06079f2c-dc0b-46ca-90e7-50da1c89f406",
   "metadata": {},
   "source": [
    "##### Answer: "
   ]
  }
 ],
 "metadata": {
  "kernelspec": {
   "display_name": "Python 3 (ipykernel)",
   "language": "python",
   "name": "python3"
  },
  "language_info": {
   "codemirror_mode": {
    "name": "ipython",
    "version": 3
   },
   "file_extension": ".py",
   "mimetype": "text/x-python",
   "name": "python",
   "nbconvert_exporter": "python",
   "pygments_lexer": "ipython3",
   "version": "3.9.12"
  }
 },
 "nbformat": 4,
 "nbformat_minor": 5
}
